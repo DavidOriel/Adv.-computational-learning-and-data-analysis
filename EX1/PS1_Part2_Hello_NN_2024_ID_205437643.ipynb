{
  "cells": [
    {
      "cell_type": "code",
      "execution_count": null,
      "metadata": {
        "id": "X2ZxCWBO_IIT"
      },
      "outputs": [],
      "source": [
        "import numpy as np,
        "import time"
      ]
    },
    {
      "cell_type": "markdown",
      "metadata": {
        "id": "CnAz84ZL_9XQ"
      },
      "source": [
        "\n",
        "**Welcome**.   \n",
        "\n",
        "In this part of the problem set you are set to build a complete and flexible neural network.  \n",
        "This neural network will be library free (in the sense that we won't use PyTorch/Tensorflow/etc.).   \n",
        "\n",
        "Let's do a quick review of the basic neural-network components:  \n",
        "\n",
        "\n",
        "*   *Layer* - can be fully connected (dense/hidden), convolution, etc.\n",
        "  * Forward propagation- the layer outputs the next layer's input\n",
        "  * Backward propagation- the layer also outputs the gradient descent update\n",
        "*   *Activation* Layer (e.g. ReLU) - there are no parameters, only gradients with respect to the input. We want to compute both the gradient w.r.t the parameters of the layer and to create the gradient with respect to the layer's inputs\n",
        "   * *Forward propagation*- the layer outputs the next layer's input\n",
        "   * *Backward propagation*- the layer also outputs the gradient descent update\n",
        "*   *Loss Function* : how our model  quantifies the difference between the predicted outputs the actual (target) values  \n",
        "*   *Network Wrapper*-  wraps our components together as a trainable model.\n",
        "\n",
        "\n",
        "\n",
        "\n"
      ]
    },
    {
      "cell_type": "markdown",
      "metadata": {
        "id": "ncQsamml85JG"
      },
      "source": [
        "Useful resource:  \n",
        "* Gradient descent for neural networks [cheat sheet](https://moodle4.cs.huji.ac.il/hu23/mod/resource/view.php?id=402297).\n",
        "* Neural network architecture [cheat sheet](https://moodle4.cs.huji.ac.il/hu23/mod/url/view.php?id=402298)."
      ]
    },
    {
      "cell_type": "markdown",
      "metadata": {
        "id": "P11k0GECXiR-"
      },
      "source": [
        "### 0. Loading data"
      ]
    },
    {
      "cell_type": "markdown",
      "metadata": {
        "id": "lwLDOo7IXfcI"
      },
      "source": [
        "You are going to test and evaluate your home-made network on the `mnist` dataset.   \n",
        "The MNIST dataset is a large dataset of handwritten digits that is commonly used for training various image and vision models."
      ]
    },
    {
      "cell_type": "code",
      "execution_count": null,
      "metadata": {
        "id": "RIxpddzDXgBN"
      },
      "outputs": [],
      "source": [
        "from keras.datasets import mnist\n",
        "from keras.utils import to_categorical\n",
        "# load MNIST from server\n",
        "# Using a standard library (keras.datasets) to load the mnist data\n",
        "(x_train, y_train), (x_test, y_test) = mnist.load_data()"
      ]
    },
    {
      "cell_type": "markdown",
      "metadata": {
        "id": "B_yaFDAtXj1h"
      },
      "source": [
        "#### Data transformations\n",
        "\n",
        "\n",
        "\n"
      ]
    },
    {
      "cell_type": "code",
      "execution_count": null,
      "metadata": {
        "id": "3PooYSGAgY4v"
      },
      "outputs": [],
      "source": [
        "# training data : 60000 samples\n",
        "# reshape and normalize input data\n",
        "x_train = x_train.reshape(x_train.shape[0], 1, 28*28)\n",
        "x_train = x_train.astype('float32')\n",
        "x_train /= 255\n",
        "# One-hot encoding of the output.\n",
        "# Currently a number in range [0,9]; Change into a vector of size 10\n",
        "# e.g. number 3 will become [0, 0, 0, 1, 0, 0, 0, 0, 0, 0]\n",
        "y_train = to_categorical(y_train)\n",
        "# same for test data : 10000 samples\n",
        "x_test = x_test.reshape(x_test.shape[0], 1, 28*28)\n",
        "x_test = x_test.astype('float32')\n",
        "x_test /= 255\n",
        "y_test = to_categorical(y_test)"
      ]
    },
    {
      "cell_type": "markdown",
      "metadata": {
        "id": "q8HGS8h1uXAD"
      },
      "source": [
        "### 1. Network's Components"
      ]
    },
    {
      "cell_type": "markdown",
      "metadata": {
        "id": "Hda7HDt6NMg1"
      },
      "source": [
        "Please fill-in the missing code in the code boxes below (only where  `#### SOLUTION REQUIRED ####` is specified).   "
      ]
    },
    {
      "cell_type": "code",
      "execution_count": null,
      "metadata": {
        "id": "zi3-57RaG-YW"
      },
      "outputs": [],
      "source": [
        "\n",
        "# This class is a general layer primitive, defining that each instance must\n",
        "# have an (input,output) parameters, and 2 functions: forward+backward propogation\n",
        "class Layer_Primitive:\n",
        "    def __init__(self):\n",
        "        self.input = None\n",
        "        self.output = None\n",
        "\n",
        "    # computes the output Y of a layer for a given input X\n",
        "    def forward_propagation(self, input):\n",
        "        raise NotImplementedError\n",
        "\n",
        "    # computes dE/dX for a given dE/dY (and update parameters if any)\n",
        "    def backward_propagation(self, output_error, learning_rate):\n",
        "        raise NotImplementedError"
      ]
    },
    {
      "cell_type": "markdown",
      "metadata": {
        "id": "kFrfWvZFoxGz"
      },
      "source": [
        "#### Fully Connected Layer"
      ]
    },
    {
      "cell_type": "markdown",
      "metadata": {
        "id": "fZnNmnfjDqBg"
      },
      "source": [
        "A fully-connected layer (a.k.a. affine, dense,linear layer) connects every input neuron to every output neuron.   \n",
        "It has 2 parameters: (input, output).   \n",
        "You need to define (code) the following:\n",
        "* its initialization weights with random weights.\n",
        "* the forward propogation calculation (as shown in class).\n",
        "* the backward propogation gradients calculation (given output, as shown in class).\n",
        "\n",
        "Parameters must be intitialized with some values. There are many ways to initialize the weights, and you are encouraged to do a quick research about the common methods. Any commonly used method will be accepted.  "
      ]
    },
    {
      "cell_type": "markdown",
      "metadata": {
        "id": "b2vegoAGNSdm"
      },
      "source": [
        "1.1 (20 pts)"
      ]
    },
    {
      "cell_type": "code",
      "execution_count": null,
      "metadata": {
        "id": "1oPtObGHL0qA"
      },
      "outputs": [],
      "source": [
        "#### SOLUTION REQUIRED ####\n",
        "\n",
        "\n",
        "# inherit from base class Layer\n",
        "class Affine_Layer(Layer_Primitive):\n",
        "    # input_size = number of input neurons\n",
        "    # output_size = number of output neurons\n",
        "    def __init__(self, input_size, output_size):\n",
        "        self.weights = np.random.uniform(low = -np.sqrt(1/input_size), high = np.sqrt(1/input_size), size = (input_size, output_size))\n",
        "        self.bias = np.random.rand(1,output_size)\n",
        "\n",
        "\n",
        "    # returns output for a given input\n",
        "    def forward_propagation(self, input_data):\n",
        "        self.input = input_data\n",
        "        self.output = np.dot(self.input,self.weights) + self.bias\n",
        "        return self.output\n",
        "\n",
        "\n",
        "    # computes dE/dW, dE/dB for a given output_error=dE/dY. Returns input_error=dE/dX.\n",
        "    def backward_propagation(self, output_grad, learning_rate):\n",
        "        input_error = np.dot(output_grad, self.weights.T)\n",
        "        weights_error = np.dot(self.input.T,output_grad)\n",
        "        bias_error = output_grad.sum(axis=0, keepdims=True)\n",
        "        # weights_error = self.input.T @ output_grad\n",
        "        # update parameters\n",
        "        self.weights -= learning_rate*weights_error\n",
        "        self.bias -= learning_rate*output_grad\n",
        "\n",
        "        return input_error"
      ]
    },
    {
      "cell_type": "markdown",
      "metadata": {
        "id": "Uktf9H2UuhYR"
      },
      "source": [
        "#### Activation layers"
      ]
    },
    {
      "cell_type": "markdown",
      "metadata": {
        "id": "nbjwalPGEgLy"
      },
      "source": [
        "Activation functions are often a non-linear functions that aid in how well the network model adapts to and learns  the training dataset. The choice of activation function in the output layer will define the type of predictions the model can make.  \n",
        "\n"
      ]
    },
    {
      "cell_type": "code",
      "execution_count": null,
      "metadata": {
        "id": "Mg5f_-ikVMzi"
      },
      "outputs": [],
      "source": [
        "# inherit from base class Layer\n",
        "class ActivationLayer(Layer_Primitive):\n",
        "    def __init__(self, activation, activation_grad):\n",
        "        self.activation = activation\n",
        "        self.activation_grad = activation_grad\n",
        "\n",
        "    # returns the activated input\n",
        "    def forward_propagation(self, input_data):\n",
        "        self.input = input_data\n",
        "        self.output = self.activation(self.input)\n",
        "        return self.output\n",
        "\n",
        "    # Returns input_error=dE/dX for a given output_grad=dE/dY.\n",
        "    # learning_rate is not used because there is no \"learnable\" parameters.\n",
        "    def backward_propagation(self, output_grad, learning_rate):\n",
        "        return self.activation_grad(self.input) * output_grad\n"
      ]
    },
    {
      "cell_type": "markdown",
      "metadata": {
        "id": "FaB7AX-aFP1j"
      },
      "source": [
        "\n",
        "You need to define (code) the following via different functions:\n",
        "* the forward propogation calculation (as shown in class).\n",
        "* the backward propogation gradients calculation (given output, as shown in class)."
      ]
    },
    {
      "cell_type": "markdown",
      "metadata": {
        "id": "fbvilWixNaro"
      },
      "source": [
        "1.2 (20 pts)"
      ]
    },
    {
      "cell_type": "code",
      "execution_count": null,
      "metadata": {
        "id": "4-M9-LPBgBTB"
      },
      "outputs": [],
      "source": [
        "#### SOLUTION REQUIRED ####\n",
        "\n",
        "# activation functions and their derivatives:\n",
        "\n",
        "def tanh(x):\n",
        "    return (np.exp(x) - np.exp(-x)) / (np.exp(x) + np.exp(-x))\n",
        "\n",
        "def tanh_grad(x):\n",
        "    return 1-tanh(x)*tanh(x)\n",
        "\n",
        "def relu(x):\n",
        "    return np.maximum(0,x)\n",
        "\n",
        "def relu_grad(x):\n",
        "    return np.where(x>0,1,0)\n",
        "\n",
        "def sigmoid(x):\n",
        "    s = 1/(1+np.exp(-x))\n",
        "    return s\n",
        "\n",
        "def sigmoid_grad(x):\n",
        "    sig_grad = sigmoid(x)*(1-sigmoid(x))\n",
        "    return sig_grad\n"
      ]
    },
    {
      "cell_type": "markdown",
      "metadata": {
        "id": "s3RBktf7uowi"
      },
      "source": [
        "#### Loss function"
      ]
    },
    {
      "cell_type": "markdown",
      "metadata": {
        "id": "RgZ4SRFkG_Sj"
      },
      "source": [
        "1.3 (10 pts)"
      ]
    },
    {
      "cell_type": "code",
      "execution_count": null,
      "metadata": {
        "id": "uo_FcJrYgQaB"
      },
      "outputs": [],
      "source": [
        "#### SOLUTION REQUIRED ####\n",
        "\n",
        "# loss function and its derivative\n",
        "\n",
        "def mse(y_true, y_pred):\n",
        "    return np.mean(np.power(y_true-y_pred, 2))\n",
        "\n",
        "def mse_grad(y_true, y_pred):\n",
        "    return 2*(y_pred-y_true)/y_true.size\n",
        "\n"
      ]
    },
    {
      "cell_type": "markdown",
      "metadata": {
        "id": "V4jPsOT9uy-_"
      },
      "source": [
        "#### Putting everything together"
      ]
    },
    {
      "cell_type": "markdown",
      "metadata": {
        "id": "fEK-tOfrNhO_"
      },
      "source": [
        "1.4 (10 pts)"
      ]
    },
    {
      "cell_type": "code",
      "execution_count": null,
      "metadata": {
        "id": "fMwSnK5pgV9Y"
      },
      "outputs": [],
      "source": [
        "#### SOLUTION REQUIRED (in `predict`) ####\n",
        "\n",
        "class MyNetwork:\n",
        "    def __init__(self):\n",
        "        self.layers = []\n",
        "        self.loss = None\n",
        "        self.loss_grad = None\n",
        "\n",
        "    # add layer to network\n",
        "    def add(self, layer):\n",
        "        self.layers.append(layer)\n",
        "\n",
        "    # set loss to use\n",
        "    def use_loss(self, loss, loss_grad):\n",
        "        self.loss = loss\n",
        "        self.loss_grad = loss_grad\n",
        "\n",
        "\n",
        "    # train the network\n",
        "    def fit(self, x_train, y_train, epochs, learning_rate):\n",
        "        # sample dimension first\n",
        "        samples = len(x_train)\n",
        "\n",
        "        # training loop\n",
        "        for i in range(epochs):\n",
        "            err = 0\n",
        "            for j in range(samples):\n",
        "                # forward propagation\n",
        "                output = x_train[j]\n",
        "                for layer in self.layers:\n",
        "                    output = layer.forward_propagation(output)\n",
        "                # compute loss (for display purpose only)\n",
        "                err += self.loss(y_train[j], output)\n",
        "\n",
        "                # backward propagation\n",
        "                grad = self.loss_grad(y_train[j], output)\n",
        "                for layer in reversed(self.layers):\n",
        "                    # print(\"grad:\", grad.shape)\n",
        "                    grad = layer.backward_propagation(grad, learning_rate)\n",
        "            # calculate average error on all samples\n",
        "            err /= samples\n",
        "            print('Training epoch %d/%d   error=%f' % (i+1, epochs, err))\n",
        "\n",
        "\n",
        "    # predict output for given input\n",
        "    def predict(self, x_test,y_test=np.array([])):\n",
        "        if y_test.size:\n",
        "           assert len(x_test)==len(y_test) # if Y is given\n",
        "        # sample dimension first\n",
        "        samples = len(x_test)\n",
        "        result = []\n",
        "        loss = 0\n",
        "        correct = 0\n",
        "        # run network over all samples\n",
        "        for i in range(samples):\n",
        "            # forward propagation\n",
        "            output = x_test[i]\n",
        "            for layer in self.layers:\n",
        "                output = layer.forward_propagation(output)\n",
        "            result.append(output)\n",
        "            # ONLY IF LABELS ARE GIVEN (Y):\n",
        "            if y_test.size:\n",
        "                # Evaluate the output against Y,\n",
        "                # calculate loss against Y, add to `loss`:\n",
        "                loss += self.loss(y_test[i],output)\n",
        "                target = y_test[i]\n",
        "                # Evaluate the label of the output against real, and if identical,\n",
        "                # add +1 to `correct`:\n",
        "                if np.argmax(y_test[i]) == np.argmax(output):\n",
        "                   correct += 1\n",
        "        if y_test.size:\n",
        "            mean_loss = loss/samples\n",
        "\n",
        "            print('\\nTest set: Avg. loss: {:.4f}, Accuracy: {}/{} ({:.0f}%)\\n'.\n",
        "                  format(mean_loss, correct, samples,100. * correct / samples))\n",
        "\n",
        "        return result\n"
      ]
    },
    {
      "cell_type": "markdown",
      "metadata": {
        "id": "dCXXcALGXSRb"
      },
      "source": [
        "## 2. Testing Your Neural Network"
      ]
    },
    {
      "cell_type": "markdown",
      "metadata": {
        "id": "KotuuqWKXt2r"
      },
      "source": [
        "### Defining our main neural network architecture"
      ]
    },
    {
      "cell_type": "markdown",
      "metadata": {
        "id": "wzatylPzQIdR"
      },
      "source": [
        "Define your network's architecture:  \n",
        "(Please rationalize your choice of activation funciton.)\n",
        "* first affine layer that takes your input and outputs 128 nodes\n",
        "* `tanh/relu/sigmoid` activation layer following the first affine layer\n",
        "* second affine layer that takes the first layer's input and outputs 64 nodes\n",
        "* `tanh/relu/sigmoid` activation layer following the second affine layer\n",
        "* third affine layer that takes your second layer's input and outputs nodes in the size of the Y labels.\n",
        "* `tanh/relu/sigmoid` activation layer following the last affine layer\n"
      ]
    },
    {
      "cell_type": "markdown",
      "metadata": {
        "id": "kSwlLJXWNqii"
      },
      "source": [
        "2.1 (5 pts)"
      ]
    },
    {
      "cell_type": "code",
      "execution_count": null,
      "metadata": {
        "id": "_O9Mi5Qmuvlp"
      },
      "outputs": [],
      "source": [
        "#### SOLUTION REQUIRED (in `predict`) ####\n",
        "\n",
        "# Network Architecture\n",
        "net = MyNetwork()\n",
        "net.add(Affine_Layer(28*28, 128))\n",
        "net.add(ActivationLayer(relu,relu_grad))\n",
        "net.add(Affine_Layer(128, 64))\n",
        "net.add(ActivationLayer(relu,relu_grad))\n",
        "net.add(Affine_Layer(64, 10))\n",
        "net.add(ActivationLayer(relu,relu_grad))\n"
      ]
    },
    {
      "cell_type": "markdown",
      "metadata": {
        "id": "o8_5gnOuuxWC"
      },
      "source": [
        "### Training!"
      ]
    },
    {
      "cell_type": "code",
      "execution_count": null,
      "metadata": {
        "colab": {
          "base_uri": "https://localhost:8080/"
        },
        "id": "QhWuBFBfg3SB",
        "outputId": "2aaa4c1c-e4b8-458d-ed0a-5d58815b172b"
      },
      "outputs": [
        {
          "output_type": "stream",
          "name": "stdout",
          "text": [
            "Training epoch 1/20   error=0.021890\n",
            "Training epoch 2/20   error=0.011977\n",
            "Training epoch 3/20   error=0.009220\n",
            "Training epoch 4/20   error=0.007666\n",
            "Training epoch 5/20   error=0.006640\n",
            "Training epoch 6/20   error=0.005898\n",
            "Training epoch 7/20   error=0.005330\n",
            "Training epoch 8/20   error=0.004878\n",
            "Training epoch 9/20   error=0.004508\n",
            "Training epoch 10/20   error=0.004193\n",
            "Training epoch 11/20   error=0.003930\n",
            "Training epoch 12/20   error=0.003703\n",
            "Training epoch 13/20   error=0.003497\n",
            "Training epoch 14/20   error=0.003310\n",
            "Training epoch 15/20   error=0.003140\n",
            "Training epoch 16/20   error=0.002984\n",
            "Training epoch 17/20   error=0.002841\n",
            "Training epoch 18/20   error=0.002716\n",
            "Training epoch 19/20   error=0.002595\n",
            "Training epoch 20/20   error=0.002479\n",
            "Total process time: 898.206\n"
          ]
        }
      ],
      "source": [
        "\n",
        "# While developing, it is recommended to train your model on a subset of the data... / or low epochs.\n",
        "# as we didn't implemented mini-batch GD, training will be pretty slow if we update at each iteration on 60000 samples...\n",
        "net.use_loss(mse, mse_grad)\n",
        "epoch_num = 20\n",
        "lr = 0.01\n",
        "t1 = time.time()\n",
        "net.fit(x_train, y_train, epochs=epoch_num, learning_rate=lr)\n",
        "print(f\"Total process time: {round(time.time() - t1,3)}\")\n"
      ]
    },
    {
      "cell_type": "markdown",
      "metadata": {
        "id": "kXwnmpjlu5sa"
      },
      "source": [
        "### Evaluation"
      ]
    },
    {
      "cell_type": "markdown",
      "metadata": {
        "id": "Hhz13JznTujh"
      },
      "source": [
        "Exciting! Now is the time to test your model.   \n",
        "\n",
        "    May the gradients be always in your favor."
      ]
    },
    {
      "cell_type": "code",
      "execution_count": null,
      "metadata": {
        "id": "BHDYRUoq54Fk",
        "colab": {
          "base_uri": "https://localhost:8080/"
        },
        "outputId": "983e8272-8b48-4c24-d6dc-b229649d377f"
      },
      "outputs": [
        {
          "output_type": "stream",
          "name": "stdout",
          "text": [
            "\n",
            "Test set: Avg. loss: 0.0043, Accuracy: 9781/10000 (98%)\n",
            "\n"
          ]
        }
      ],
      "source": [
        "output = net.predict(x_test ,y_test )"
      ]
    },
    {
      "cell_type": "markdown",
      "metadata": {
        "id": "S9HEZ6ElvVVj"
      },
      "source": [
        "## 3. Benchmarking against PyTorch"
      ]
    },
    {
      "cell_type": "markdown",
      "metadata": {
        "id": "Z-0UWnaYUNz7"
      },
      "source": [
        "How well your model performs against a similar-architecture PyTorch model?   \n",
        "It is time to find out:"
      ]
    },
    {
      "cell_type": "code",
      "execution_count": null,
      "metadata": {
        "id": "R2TeiObsnBr1"
      },
      "outputs": [],
      "source": [
        "import torch\n",
        "import torch.nn as nn\n",
        "import torch.nn.functional as F\n",
        "from torch.utils.data import TensorDataset"
      ]
    },
    {
      "cell_type": "markdown",
      "metadata": {
        "id": "-h8cCoV3ZSkt"
      },
      "source": [
        "#### Prepare the data as tensors using PyTorch DataLoader:"
      ]
    },
    {
      "cell_type": "code",
      "execution_count": null,
      "metadata": {
        "id": "1rqwlzUIvFCZ"
      },
      "outputs": [],
      "source": [
        "t_train =  TensorDataset(torch.Tensor(x_train),torch.Tensor(y_train))\n",
        "t_test =  TensorDataset(torch.Tensor(x_test),torch.Tensor(y_test))\n",
        "train_loader = torch.utils.data.DataLoader(dataset=t_train, batch_size=64, shuffle=True)\n",
        "test_loader = torch.utils.data.DataLoader(dataset=t_test, batch_size=64, shuffle=False)"
      ]
    },
    {
      "cell_type": "markdown",
      "metadata": {
        "id": "0Ngm-Gv_UsCV"
      },
      "source": [
        "Define a `PyTorchNet` class with an identical architecture you used in your home-made network."
      ]
    },
    {
      "cell_type": "markdown",
      "metadata": {
        "id": "mJBs2JsyNxid"
      },
      "source": [
        "3.1 (10 pts)"
      ]
    },
    {
      "cell_type": "code",
      "execution_count": null,
      "metadata": {
        "id": "4Ed2P1LmUpgS"
      },
      "outputs": [],
      "source": [
        "#### SOLUTION REQUIRED  ####\n",
        "\n",
        "class PyTorchNet(nn.Module):\n",
        "    def __init__(self):\n",
        "        super(PyTorchNet, self).__init__()\n",
        "        input_size = 28*28\n",
        "        num_classes = 10\n",
        "\n",
        "        num_classes = 10\n",
        "\n",
        "        self.fc1 = nn.Linear(input_size, 128)\n",
        "        self.activ1 = nn.ReLU()\n",
        "        self.fc2 = nn.Linear(128, 64)\n",
        "# I have changed the names to activ 2 and activ3\n",
        "        self.activ2 = nn.ReLU()\n",
        "        self.fc3 = nn.Linear(64, num_classes)\n",
        "        self.activ3 = nn.ReLU()\n",
        "\n",
        "#Question- should i add more layers to forward?\n",
        "    def forward(self, x):\n",
        "        x = x.view(-1, 28 * 28)\n",
        "        x = self.fc1(x)\n",
        "        x = self.activ1(x)\n",
        "        x = self.fc2(x)\n",
        "        x = self.activ2(x)\n",
        "        x = self.fc3(x)\n",
        "        x = self.activ3(x)\n",
        "        return x"
      ]
    },
    {
      "cell_type": "code",
      "execution_count": null,
      "metadata": {
        "id": "fG-8BEdDlL4L",
        "colab": {
          "base_uri": "https://localhost:8080/"
        },
        "outputId": "1eece693-d8f8-44c1-b0d8-92bcb4e0527c"
      },
      "outputs": [
        {
          "output_type": "stream",
          "name": "stdout",
          "text": [
            "Epoch [1/20], Step [500/938], Loss: 0.0683\n",
            "Epoch [2/20], Step [500/938], Loss: 0.0699\n",
            "Epoch [3/20], Step [500/938], Loss: 0.0708\n",
            "Epoch [4/20], Step [500/938], Loss: 0.0784\n",
            "Epoch [5/20], Step [500/938], Loss: 0.0619\n",
            "Epoch [6/20], Step [500/938], Loss: 0.0614\n",
            "Epoch [7/20], Step [500/938], Loss: 0.0829\n",
            "Epoch [8/20], Step [500/938], Loss: 0.0753\n",
            "Epoch [9/20], Step [500/938], Loss: 0.0690\n",
            "Epoch [10/20], Step [500/938], Loss: 0.0763\n",
            "Epoch [11/20], Step [500/938], Loss: 0.0766\n",
            "Epoch [12/20], Step [500/938], Loss: 0.0696\n",
            "Epoch [13/20], Step [500/938], Loss: 0.0658\n",
            "Epoch [14/20], Step [500/938], Loss: 0.0813\n",
            "Epoch [15/20], Step [500/938], Loss: 0.0821\n",
            "Epoch [16/20], Step [500/938], Loss: 0.0547\n",
            "Epoch [17/20], Step [500/938], Loss: 0.0738\n",
            "Epoch [18/20], Step [500/938], Loss: 0.0747\n",
            "Epoch [19/20], Step [500/938], Loss: 0.0735\n",
            "Epoch [20/20], Step [500/938], Loss: 0.0644\n",
            "Total process time: 97.648\n"
          ]
        }
      ],
      "source": [
        "\n",
        "# Train the model\n",
        "num_epochs = 20\n",
        "pt_learning_rate = 0.01\n",
        "pt_network = PyTorchNet()\n",
        "optimizer = torch.optim.Adam(pt_network.parameters(), lr=pt_learning_rate)\n",
        "criterion = nn.MSELoss()\n",
        "t1 = time.time()\n",
        "for epoch in range(num_epochs):\n",
        "    for i, (images, labels) in enumerate(train_loader):\n",
        "        # Forward pass\n",
        "        outputs = pt_network(images)\n",
        "        loss = criterion(outputs, labels)\n",
        "        # Backward pass and optimize\n",
        "        optimizer.zero_grad()\n",
        "        loss.backward()\n",
        "        optimizer.step()\n",
        "        # A handy printout:\n",
        "        if (i + 1) % 500 == 0:\n",
        "            print(f'Epoch [{epoch+1}/{num_epochs}], Step [{i+1}/{len(train_loader)}], Loss: {loss.item():.4f}')\n",
        "print(f\"Total process time: {round(time.time() - t1,3)}\")\n"
      ]
    },
    {
      "cell_type": "markdown",
      "metadata": {
        "id": "L3rFfBfaV3Gt"
      },
      "source": [
        "Evaluation:"
      ]
    },
    {
      "cell_type": "code",
      "execution_count": null,
      "metadata": {
        "id": "RsfDSk2IrXst",
        "colab": {
          "base_uri": "https://localhost:8080/"
        },
        "outputId": "b25d2624-fc96-4484-9639-7d23fc05614f"
      },
      "outputs": [
        {
          "output_type": "stream",
          "name": "stdout",
          "text": [
            "\n",
            "Test set: Avg. loss: 0.0011, Accuracy: 3981/10000 (40%)\n",
            "\n"
          ]
        }
      ],
      "source": [
        "pt_network.eval()\n",
        "test_losses = []\n",
        "test_loss = 0\n",
        "correct = 0\n",
        "with torch.no_grad():\n",
        "    for data, target in test_loader:\n",
        "        output = pt_network(data)\n",
        "        test_loss += criterion(output, target,)\n",
        "        pred = output.data.max(1, keepdim=True)[1]\n",
        "        correct += pred.eq(target.data.max(1,keepdim=True)[1]).sum()\n",
        "\n",
        "test_loss /= len(test_loader.dataset)\n",
        "test_losses.append(test_loss)\n",
        "print('\\nTest set: Avg. loss: {:.4f}, Accuracy: {}/{} ({:.0f}%)\\n'.format(\n",
        "  test_loss, correct, len(test_loader.dataset),\n",
        "  100. * correct / len(test_loader.dataset)))"
      ]
    },
    {
      "cell_type": "markdown",
      "metadata": {
        "id": "EyKXHGW3XsAN"
      },
      "source": [
        "3.2 (10 pts)"
      ]
    },
    {
      "cell_type": "markdown",
      "metadata": {
        "id": "dI13KBVgrBkc"
      },
      "source": [
        "Time for some questions:\n",
        "1. Which one of the models performed better? Why?\n",
        "2. Which one of the models performed faster? Why?  \n",
        "3. What would you change in your network's architecture?   \n",
        "4. What would you change in your model's solution algorithm?"
      ]
    },
    {
      "cell_type": "markdown",
      "metadata": {
        "id": "cb6AMtbuXvSR"
      },
      "source": [
        "Write your solutions here:\n",
        "\n",
        "1. The manual one performed better 98% accuracy againts 40%, maybe pytorch overtuned the weights and we got overfitting.\n",
        "2. In the other hand pytorch was way faster, it is make sense because the library is built to make quick calculations.\n",
        "3. Because the problem is to identify the number that appears in the image i would use a convolution layer, as we saw that it performs good with image recognition.\n",
        "I would also use softmax as the last activision layer.\n",
        "4. I would use softmax for output layer, because it performs good with classification tasks."
      ]
    },
    {
      "cell_type": "markdown",
      "metadata": {
        "id": "mmJYjygWrCAg"
      },
      "source": [
        "## 4. The Network Wars!"
      ]
    },
    {
      "cell_type": "markdown",
      "metadata": {
        "id": "y_bdbde5Wj-y"
      },
      "source": [
        "Here is your chance to play with your model's architecture in order to break your own benchmark set eariler.  \n",
        "You can add/remove layers, play with their sizes, types, etc.   \n",
        "You can add a new loss if you wish, or anything else that will fairly give your model an advantage over base.  "
      ]
    },
    {
      "cell_type": "markdown",
      "metadata": {
        "id": "oG2hhaeyN59O"
      },
      "source": [
        "4.1 (15 pts)"
      ]
    },
    {
      "cell_type": "code",
      "execution_count": null,
      "metadata": {
        "id": "1EsyNK77rGcG",
        "colab": {
          "base_uri": "https://localhost:8080/"
        },
        "outputId": "f5d1f50e-e9de-40da-da40-76a6690f3696"
      },
      "outputs": [
        {
          "output_type": "stream",
          "name": "stdout",
          "text": [
            "Training epoch 1/20   error=0.031601\n",
            "Training epoch 2/20   error=0.020908\n",
            "Training epoch 3/20   error=0.018261\n",
            "Training epoch 4/20   error=0.016720\n",
            "Training epoch 5/20   error=0.015667\n",
            "Training epoch 6/20   error=0.014886\n",
            "Training epoch 7/20   error=0.014288\n",
            "Training epoch 8/20   error=0.013798\n",
            "Training epoch 9/20   error=0.013394\n",
            "Training epoch 10/20   error=0.013055\n",
            "Training epoch 11/20   error=0.012766\n",
            "Training epoch 12/20   error=0.012510\n",
            "Training epoch 13/20   error=0.012286\n",
            "Training epoch 14/20   error=0.012093\n",
            "Training epoch 15/20   error=0.011925\n",
            "Training epoch 16/20   error=0.011775\n",
            "Training epoch 17/20   error=0.011637\n",
            "Training epoch 18/20   error=0.011515\n",
            "Training epoch 19/20   error=0.011410\n",
            "Training epoch 20/20   error=0.011310\n",
            "Total process time: 3902.737\n",
            "\n",
            "Test set: Avg. loss: 0.0128, Accuracy: 8870/10000 (89%)\n",
            "\n"
          ]
        }
      ],
      "source": [
        "# well, we can always try to add another layer and see what happened, and how our\n",
        "# model will improve\n",
        "\n",
        "net = MyNetwork()\n",
        "net.add(Affine_Layer(28*28, 512))\n",
        "net.add(ActivationLayer(relu, relu_grad))\n",
        "net.add(Affine_Layer(512, 256))\n",
        "net.add(ActivationLayer(relu, relu_grad))\n",
        "net.add(Affine_Layer(256, 128))\n",
        "net.add(ActivationLayer(relu, relu_grad))\n",
        "net.add(Affine_Layer(128, 10))\n",
        "net.add(ActivationLayer(relu, relu_grad))\n",
        "\n",
        "net.use_loss(mse, mse_grad)\n",
        "epoch_num = 20\n",
        "lr = 0.01\n",
        "t1 = time.time()\n",
        "net.fit(x_train, y_train, epochs=epoch_num, learning_rate=lr)\n",
        "print(f\"Total process time: {round(time.time() - t1,3)}\")\n",
        "\n",
        "output = net.predict(x_test ,y_test )"
      ]
    },
    {
      "cell_type": "markdown",
      "source": [
        "Well, it seems that we had to much overfitting since the accuracy just dropped.\n",
        "Lets try to keep the same structure but change the output layer to softmax:"
      ],
      "metadata": {
        "id": "XgdXvF59wYtS"
      }
    },
    {
      "cell_type": "code",
      "source": [
        "def softmax(x):\n",
        "    exp_values = np.exp(x - np.max(x, axis=1, keepdims=True))\n",
        "    return exp_values / np.sum(exp_values, axis=1, keepdims=True)\n",
        "\n",
        "net = MyNetwork()\n",
        "net.add(Affine_Layer(28*28, 128))\n",
        "net.add(ActivationLayer(relu,relu_grad))\n",
        "net.add(Affine_Layer(128, 64))\n",
        "net.add(ActivationLayer(relu,relu_grad))\n",
        "net.add(Affine_Layer(64, 10))\n",
        "net.add(ActivationLayer(softmax,lambda a: 1))\n",
        "net.use_loss(mse, mse_grad)\n",
        "\n",
        "epoch_num = 20\n",
        "lr = 0.01\n",
        "t1 = time.time()\n",
        "net.fit(x_train, y_train, epochs=epoch_num, learning_rate=lr)\n",
        "print(f\"Total process time: {round(time.time() - t1,3)}\")\n",
        "\n",
        "output = net.predict(x_test ,y_test )"
      ],
      "metadata": {
        "colab": {
          "base_uri": "https://localhost:8080/"
        },
        "id": "VD6QvHvJwgUc",
        "outputId": "5a93f6a0-e521-46e8-e907-ad7e3e1dcdb1"
      },
      "execution_count": null,
      "outputs": [
        {
          "output_type": "stream",
          "name": "stdout",
          "text": [
            "Training epoch 1/20   error=0.017280\n",
            "Training epoch 2/20   error=0.007412\n",
            "Training epoch 3/20   error=0.005136\n",
            "Training epoch 4/20   error=0.003915\n",
            "Training epoch 5/20   error=0.003092\n",
            "Training epoch 6/20   error=0.002465\n",
            "Training epoch 7/20   error=0.001971\n",
            "Training epoch 8/20   error=0.001554\n",
            "Training epoch 9/20   error=0.001214\n",
            "Training epoch 10/20   error=0.000946\n",
            "Training epoch 11/20   error=0.000718\n",
            "Training epoch 12/20   error=0.000541\n",
            "Training epoch 13/20   error=0.000402\n",
            "Training epoch 14/20   error=0.000295\n",
            "Training epoch 15/20   error=0.000220\n",
            "Training epoch 16/20   error=0.000158\n",
            "Training epoch 17/20   error=0.000111\n",
            "Training epoch 18/20   error=0.000076\n",
            "Training epoch 19/20   error=0.000054\n",
            "Training epoch 20/20   error=0.000037\n",
            "Total process time: 923.54\n",
            "\n",
            "Test set: Avg. loss: 0.0034, Accuracy: 9793/10000 (98%)\n",
            "\n"
          ]
        }
      ]
    },
    {
      "cell_type": "markdown",
      "source": [
        "So we managed to perform even better: 9793 out of 10000 versus 9781 out of 10000 for the first net. nice."
      ],
      "metadata": {
        "id": "vuSE2VJk4G4O"
      }
    }
  ],
  "metadata": {
    "colab": {
      "provenance": []
    },
    "kernelspec": {
      "display_name": "Python 3",
      "name": "python3"
    },
    "language_info": {
      "name": "python"
    }
  },
  "nbformat": 4,
  "nbformat_minor": 0
}
