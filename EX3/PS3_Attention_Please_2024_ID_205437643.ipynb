{
  "cells": [
    {
      "cell_type": "markdown",
      "metadata": {
        "id": "AOpGoE2T-YXS"
      },
      "source": [
        "# Neural Machine Translation with Attention\n",
        "\n",
        "Advanced Learning Fall 2024.   \n",
        "Last updated: 2025-01-12\n"
      ]
    },
    {
      "cell_type": "markdown",
      "metadata": {
        "id": "PpJdYve9cZa6"
      },
      "source": [
        "For SUBMISSION:   \n",
        "\n",
        "Please upload the complete and executed `ipynb` to your git repository. Verify that all of your output can be viewed directly from github, and provide a link to that git file below.\n",
        "\n",
        "~~~\n",
        "STUDENT ID: 205437643\n",
        "~~~\n",
        "\n",
        "~~~\n",
        "STUDENT GIT LINK: https://github.com/DavidOriel/Adv.-computational-learning-and-data-analysis---52025\n",
        "~~~\n",
        "In Addition, don't forget to add your ID to the files, and upload to moodle the html version:    \n",
        "  \n",
        "`PS3_Attention_2024_ID_[205437643].html`   \n",
        "\n",
        "\n"
      ]
    },
    {
      "cell_type": "markdown",
      "metadata": {
        "id": "eecp2PAf7qJq"
      },
      "source": [
        "In this problem set we are going to jump into the depths of `seq2seq` and `attention` and build a couple of PyTorch translation mechanisms with some  twists.     \n",
        "\n",
        "\n",
        "*   Part 1 consists of a somewhat unorthodox `seq2seq` model for simple arithmetics\n",
        "*   Part 2 consists of an `seq2seq - attention` language translation model. We will use it for Hebrew and English.  \n"
      ]
    },
    {
      "cell_type": "markdown",
      "metadata": {
        "id": "-VpUCez9gOZn"
      },
      "source": [
        "---"
      ]
    },
    {
      "cell_type": "markdown",
      "metadata": {
        "id": "ajNDsL5HlZN6"
      },
      "source": [
        "A **seq2seq** model (sequence-to-sequence model) is a type of neural network designed specifically to handle sequences of data. The model converts input sequences into other sequences of data. This makes them particularly useful for tasks involving language, where the input and output are naturally sequences of words.\n",
        "\n",
        "Here's a breakdown of how `seq2seq` models work:\n",
        "\n",
        "* The encoder takes the input sequence, like a sentence in English, and processes it to capture its meaning and context.\n",
        "\n",
        "* information is then passed to the decoder, which uses it to generate the output sequence, like a translation in French.\n",
        "\n",
        "* Attention mechanism (optional): Some `seq2seq` models also incorporate an attention mechanism. This allows the decoder to focus on specific parts of the input sequence that are most relevant to generating the next element in the output sequence.\n",
        "\n",
        "`seq2seq` models are used in many natural language processing (NLP) tasks.\n",
        "\n"
      ]
    },
    {
      "cell_type": "markdown",
      "metadata": {
        "id": "VbUDn4FObol7"
      },
      "source": [
        "imports: (feel free to add)"
      ]
    },
    {
      "cell_type": "code",
      "execution_count": 1,
      "metadata": {
        "id": "crTe33wcD_Eg"
      },
      "outputs": [],
      "source": [
        "from __future__ import unicode_literals, print_function, division\n",
        "from io import open\n",
        "# import unicodedata\n",
        "import re\n",
        "import random\n",
        "import unicodedata\n",
        "\n",
        "import time\n",
        "import math\n",
        "import matplotlib.pyplot as plt\n",
        "# plt.switch_backend('agg')\n",
        "import matplotlib.ticker as ticker\n",
        "import torch\n",
        "import torch.nn as nn\n",
        "from torch import optim\n",
        "import torch.nn.functional as F\n",
        "from torch.utils.data import TensorDataset, DataLoader, RandomSampler\n",
        "import numpy as np\n",
        "from keras.models import Sequential,Model\n",
        "from keras.layers import LSTM, Dense, Input, RepeatVector, TimeDistributed, Attention, Concatenate\n",
        "\n",
        "device = torch.device(\"cuda\" if torch.cuda.is_available() else \"cpu\")"
      ]
    },
    {
      "cell_type": "markdown",
      "metadata": {
        "id": "CiwtNgENbx2g"
      },
      "source": [
        "## Part 1: Seq2Seq Arithmetic model"
      ]
    },
    {
      "cell_type": "markdown",
      "metadata": {
        "id": "x1gWov3Gx67I"
      },
      "source": [
        "**Using RNN `seq2seq` model to \"learn\" simple arithmetics!**\n",
        "\n",
        "> Given the string \"54-7\", the model should return a prediction: \"47\".  \n",
        "> Given the string \"10+20\", the model should return a prediction: \"30\".\n"
      ]
    },
    {
      "cell_type": "markdown",
      "metadata": {
        "id": "Dxo92ZgTy6ED"
      },
      "source": [
        "- Watch Lukas Biewald's short [video](https://youtu.be/MqugtGD605k?si=rAH34ZTJyYDj-XJ1) explaining `seq2seq` models and his toy application (somewhat outdated).\n",
        "- You can find the code for his example [here](https://github.com/lukas/ml-class/blob/master/videos/seq2seq/train.py).    \n",
        "\n"
      ]
    },
    {
      "cell_type": "markdown",
      "metadata": {
        "id": "OEu_5YvqFPai"
      },
      "source": [
        "1.1) Using Lukas' code, implement a `seq2seq` network that can learn how to solve **addition AND substraction** of two numbers of maximum length of 4, using the following steps (similar to the example):      \n",
        "\n",
        "* Generate data; X: queries (two numbers), and Y: answers   \n",
        "* One-hot encode X and Y,\n",
        "* Build a `seq2seq` network (with LSTM, RepeatVector, and TimeDistributed layers)\n",
        "* Train the model.\n",
        "* While training, sample from the validation set at random so we can visualize the generated solutions against the true solutions.    \n",
        "\n",
        "Notes:  \n",
        "* The code in the example is quite old and based on Keras. You might have to adapt some of the code to overcome methods/code that is not supported anymore. Hint: for the evaluation part, review the type and format of the \"correct\" output - this will help you fix the unsupported \"model.predict_classes\".\n",
        "* Please use the parameters in the code cell below to train the model.     \n",
        "* Instead of using a `wandb.config` object, please use a simple dictionary instead.   \n",
        "* You don't need to run the model for more than 50 iterations (epochs) to get a gist of what is happening and what the algorithm is doing.\n",
        "* Extra credit if you can implement the network in PyTorch (this is not difficult).    \n",
        "* Extra credit if you are able to significantly improve the model."
      ]
    },
    {
      "cell_type": "markdown",
      "metadata": {
        "id": "qXJQqZbEbRup"
      },
      "source": [
        "1.2).\n",
        "\n",
        "a) Do you think this model performs well?  Why or why not?     \n",
        "b) What are its limitations?   \n",
        "c) What would you do to improve it?    \n",
        "d) Can you apply an attention mechanism to this model? Why or why not?   "
      ]
    },
    {
      "cell_type": "markdown",
      "metadata": {
        "id": "6wvRhhOcgmrQ"
      },
      "source": [
        "1.3).  \n",
        "\n",
        "Add attention to the model. Evaluate the performance against the `seq2seq` you trained above. Which one is performing better?"
      ]
    },
    {
      "cell_type": "markdown",
      "metadata": {
        "id": "AtEJK5IZkk8j"
      },
      "source": [
        "1.4)\n",
        "\n",
        "Using any neural network architecture of your liking, build  a model with the aim to beat the best performing model in 1.1 or 1.3. Compare your results in a meaningful way, and add a short explanation to why you think/thought your suggested network is better."
      ]
    },
    {
      "cell_type": "code",
      "execution_count": 2,
      "metadata": {
        "id": "bwZKyzoBKl4G"
      },
      "outputs": [],
      "source": [
        "config = {}\n",
        "config[\"training_size\"] = 40000\n",
        "config[\"digits\"] = 4\n",
        "config[\"hidden_size\"] = 128\n",
        "config[\"batch_size\"] = 128\n",
        "config[\"iterations\"] = 50\n",
        "chars = '0123456789-+ '"
      ]
    },
    {
      "cell_type": "markdown",
      "metadata": {
        "id": "N6YxgNvo0W_o"
      },
      "source": [
        "SOLUTION:  \n",
        "Defining the classes for generating the training set."
      ]
    },
    {
      "cell_type": "code",
      "execution_count": 3,
      "metadata": {
        "id": "GlF7abtLjz06"
      },
      "outputs": [],
      "source": [
        "class CharacterTable(object):\n",
        "    \"\"\"Given a set of characters:\n",
        "    + Encode them to a one hot integer representation\n",
        "    + Decode the one hot integer representation to their character output\n",
        "    + Decode a vector of probabilities to their character output\n",
        "    \"\"\"\n",
        "    def __init__(self, chars):\n",
        "        \"\"\"Initialize character table.\n",
        "        # Arguments\n",
        "            chars: Characters that can appear in the input.\n",
        "        \"\"\"\n",
        "        self.chars = sorted(set(chars))\n",
        "        self.char_indices = dict((c, i) for i, c in enumerate(self.chars))\n",
        "        self.indices_char = dict((i, c) for i, c in enumerate(self.chars))\n",
        "\n",
        "    def encode(self, C, num_rows):\n",
        "        \"\"\"One hot encode given string C.\n",
        "        # Arguments\n",
        "            num_rows: Number of rows in the returned one hot encoding. This is\n",
        "                used to keep the # of rows for each data the same.\n",
        "        \"\"\"\n",
        "        x = np.zeros((num_rows, len(self.chars)))\n",
        "        for i, c in enumerate(C):\n",
        "            x[i, self.char_indices[c]] = 1\n",
        "        return x\n",
        "\n",
        "    def decode(self, x, calc_argmax=True):\n",
        "        if calc_argmax:\n",
        "            x = x.argmax(axis=-1)\n",
        "        return ''.join(self.indices_char[x] for x in x)\n",
        "\n"
      ]
    },
    {
      "cell_type": "markdown",
      "source": [
        "Creating the Training set"
      ],
      "metadata": {
        "id": "pATjEgScFypq"
      }
    },
    {
      "cell_type": "code",
      "execution_count": null,
      "metadata": {
        "id": "RiAs4eiafCCA"
      },
      "outputs": [],
      "source": [
        "maxlen = config[\"digits\"] + 1 + config[\"digits\"]\n",
        "questions = []\n",
        "expected = []\n",
        "seen = set()\n",
        "ctable = CharacterTable(chars)\n",
        "print('Generating data...')\n",
        "while len(questions) < config[\"training_size\"]:\n",
        "    f = lambda: int(''.join(np.random.choice(list('0123456789'))\n",
        "                    for i in range(np.random.randint(1, config[\"digits\"] + 1))))\n",
        "    a, b = f(), f()\n",
        "    # Skip any addition questions we've already seen\n",
        "    # Also skip any such that x+Y == Y+x (hence the sorting).\n",
        "    key = tuple(sorted((a, b)))\n",
        "    if key in seen:\n",
        "        continue\n",
        "    seen.add(key)\n",
        "    # Pad the data with spaces such that it is always MAXLEN.\n",
        "    sign = np.random.choice(['-', '+'])\n",
        "\n",
        "\n",
        "    if sign == '+':\n",
        "        q = '{}+{}'.format(a, b)\n",
        "        ans_value = a + b\n",
        "    else:  # sign == '-'\n",
        "        q = '{}-{}'.format(a, b)\n",
        "        ans_value = a - b\n",
        "\n",
        "    # Pad the query so it is always 'maxlen' in length\n",
        "    query = q + ' ' * (maxlen - len(q))\n",
        "\n",
        "    # Convert answer to string, pad to length 'digits + 1'\n",
        "    ans = str(ans_value)\n",
        "    ans += ' ' * (config[\"digits\"] + 1 - len(ans))\n",
        "\n",
        "    questions.append(query)\n",
        "    expected.append(ans)\n",
        "\n",
        "print('Total addition questions:', len(questions))\n",
        "\n",
        "print('Vectorization...')\n",
        "x = np.zeros((len(questions), maxlen, len(chars)), dtype=np.float32)\n",
        "y = np.zeros((len(questions), config[\"digits\"] + 1, len(chars)), dtype=np.float32)\n",
        "for i, sentence in enumerate(questions):\n",
        "    x[i] = ctable.encode(sentence, maxlen)\n",
        "for i, sentence in enumerate(expected):\n",
        "    y[i] = ctable.encode(sentence, config[\"digits\"] + 1)\n",
        "\n",
        "# Shuffle (x, y) in unison as the later parts of x will almost all be larger\n",
        "# digits.\n",
        "indices = np.arange(len(y))\n",
        "np.random.shuffle(indices)\n",
        "x = x[indices]\n",
        "y = y[indices]\n",
        "\n",
        "# Explicitly set apart 10% for validation data that we never train over.\n",
        "split_at = len(x) - len(x) // 10\n",
        "(x_train, x_val) = x[:split_at], x[split_at:]\n",
        "(y_train, y_val) = y[:split_at], y[split_at:]\n",
        "\n",
        "print(questions)\n",
        "print(expected)\n",
        "\n",
        "x_train_tens = torch.tensor(x_train, device=device)\n",
        "y_train_tens = torch.tensor(y_train, device=device)\n",
        "x_val_tens = torch.tensor(x_val, device=device)\n",
        "y_val_tens = torch.tensor(y_val, device=device)"
      ]
    },
    {
      "cell_type": "markdown",
      "metadata": {
        "id": "jM1rqNdHoQZA"
      },
      "source": [
        "Train and Evaluate functions"
      ]
    },
    {
      "cell_type": "code",
      "execution_count": 5,
      "metadata": {
        "id": "emkjylP8lfey"
      },
      "outputs": [],
      "source": [
        "def train(model, x_train, y_train, x_val, y_val, config):\n",
        "  for iteration in range(1, config[\"iterations\"] + 1):\n",
        "    model.train()\n",
        "    total_loss = 0\n",
        "\n",
        "    for i in range(0, len(x_train), config[\"batch_size\"]):\n",
        "        x_batch = x_train[i:i + config[\"batch_size\"]]\n",
        "        y_batch = y_train[i:i + config[\"batch_size\"]]\n",
        "\n",
        "        optimizer.zero_grad()\n",
        "        outputs = model(x_batch)  # Shape: (batch_size, repeat_len, len(chars))\n",
        "\n",
        "        # Reshape outputs: (batch_size * repeat_len, num_classes)\n",
        "        outputs = outputs.view(-1, len(chars))\n",
        "\n",
        "        # Convert one-hot encoded targets to class indices.\n",
        "        targets = y_batch.view(-1, len(chars)).argmax(dim=-1)\n",
        "\n",
        "        loss = criterion(outputs, targets)\n",
        "        loss.backward()\n",
        "        optimizer.step()\n",
        "        total_loss += loss.item()\n",
        "\n",
        "    avg_loss = total_loss / (len(x_train_tens) // config[\"batch_size\"])\n",
        "    print(f\"Epoch {iteration} - Loss: {avg_loss:.4f}\")\n",
        "\n",
        "\n",
        "    #######################\n",
        "    # Evaluate on a few random samples\n",
        "    #######################\n",
        "    if iteration%10 == 0:\n",
        "      model.eval()\n",
        "      with torch.no_grad():\n",
        "          for _ in range(10):  # pick 5 random samples to show\n",
        "              idx = np.random.randint(0, len(x_val))\n",
        "              x_sample = x_val[idx:idx+1]  # shape => (1, maxlen, len(chars))\n",
        "              y_sample = y_val[idx:idx+1]  # shape => (1, repeat_len, len(chars))\n",
        "              true_answer = ctable.decode(y_sample[0].cpu().numpy())\n",
        "\n",
        "              logits = model(x_sample)\n",
        "              pred_int = logits.argmax(dim=-1)  # => (1, repeat_len)\n",
        "              query_str = ctable.decode(x_sample[0].cpu().numpy())\n",
        "              guess_str = ctable.decode(pred_int[0].cpu().numpy(), calc_argmax=False)\n",
        "\n",
        "              # Print results\n",
        "              print(f\"Q: {query_str}   T: {true_answer}   Guess: {guess_str}\",\n",
        "                    \"☑\" if guess_str.strip() == true_answer.strip() else \"☒\")\n",
        "    print(\"----------------------------------------------------------\")\n",
        "\n",
        "#Evaluate the model over the eval set, we first check how many predictions are true\n",
        "#and second we check how on evarage the prediction is far from the correct answer.\n",
        "def evaluate(model, x_val, y_val):\n",
        "    model.eval()\n",
        "    total = len(x_val)\n",
        "    correct = 0\n",
        "    total_distance = 0\n",
        "    total_approved = 0\n",
        "    print(\"\\nEvaluating on the entire validation set:\")\n",
        "\n",
        "    with torch.no_grad():\n",
        "        for idx in range(total):\n",
        "            x_sample = x_val[idx:idx+1]\n",
        "            y_sample = y_val[idx:idx+1]\n",
        "\n",
        "            logits = model(x_sample)\n",
        "            pred_int = logits.argmax(dim=-1)\n",
        "\n",
        "            true_answer = ctable.decode(y_sample[0].cpu().numpy()).replace(' ', '').strip()\n",
        "            guess_str = ctable.decode(pred_int[0].cpu().numpy(), calc_argmax=False).replace(' ', '').strip()\n",
        "            # Check correctness\n",
        "            if guess_str == true_answer:\n",
        "                correct += 1\n",
        "\n",
        "            # Calculate numerical distance\n",
        "            try:\n",
        "                true_answer = true_answer.replace(' ', '').strip()\n",
        "                guess_str = guess_str.replace(' ', '').strip()\n",
        "                true_num = float(true_answer)\n",
        "                guess_num = float(guess_str)\n",
        "                distance = abs(true_num - guess_num)\n",
        "                total_approved+=1\n",
        "\n",
        "            except ValueError:\n",
        "                # Handle non-integer conversions\n",
        "                print(\"unsuccesfully managed to turn into int:\", true_num,guess_num)\n",
        "                print(\"type=\", type(true_num), type(guess_num))\n",
        "\n",
        "            total_distance += distance\n",
        "\n",
        "    accuracy = correct / total * 100\n",
        "    average_distance = total_distance / total_approved\n",
        "\n",
        "    print(f\"\\nOverall evaluation accuracy: {correct}/{total} = {accuracy:.2f}%\")\n",
        "    print(f\"Average numerical distance from correct answer: {average_distance:.2f}\")\n"
      ]
    },
    {
      "cell_type": "markdown",
      "metadata": {
        "id": "r_pJ7hVOH6KU"
      },
      "source": [
        "##1.1)  \n",
        "##Solution with Pytorch module"
      ]
    },
    {
      "cell_type": "markdown",
      "metadata": {
        "id": "3_GlztJvoWWM"
      },
      "source": [
        "Defining the model"
      ]
    },
    {
      "cell_type": "code",
      "execution_count": 6,
      "metadata": {
        "id": "ww4Byd7uwWNy"
      },
      "outputs": [],
      "source": [
        "class Sequential(nn.Module):\n",
        "    def __init__(self, input_dim, hidden_size, output_dim, repeat_len):\n",
        "        \"\"\"\n",
        "        PyTorch equivalent of a Keras sequential model.\n",
        "\n",
        "        Args:\n",
        "            input_dim: Number of input features (len(chars)).\n",
        "            hidden_size: Hidden state size of LSTM.\n",
        "            output_dim: Number of output features (len(chars)).\n",
        "            repeat_len: Length of the repeated vector (config.digits + 1).\n",
        "        \"\"\"\n",
        "        super(Sequential, self).__init__()\n",
        "        print(input_dim, hidden_size, output_dim, repeat_len)\n",
        "        self.encoder = nn.LSTM(input_dim, hidden_size, batch_first=True)\n",
        "        self.repeat_vector = lambda x: x.repeat(1, repeat_len, 1)\n",
        "        self.decoder = nn.LSTM(hidden_size, hidden_size, batch_first=True)\n",
        "        self.time_distributed = nn.Linear(hidden_size, output_dim)\n",
        "\n",
        "    def forward(self, x):\n",
        "        # Encoder: get the hidden and cell states.\n",
        "        _, (hidden, cell) = self.encoder(x)\n",
        "        repeated = self.repeat_vector(hidden[-1].unsqueeze(1))\n",
        "        decoded, _ = self.decoder(repeated, (hidden, cell))\n",
        "        output = self.time_distributed(decoded)\n",
        "        return output\n",
        "\n"
      ]
    },
    {
      "cell_type": "markdown",
      "metadata": {
        "id": "qznfv9K2ocnp"
      },
      "source": [
        "Train and evaluate the model"
      ]
    },
    {
      "cell_type": "code",
      "execution_count": 7,
      "metadata": {
        "colab": {
          "base_uri": "https://localhost:8080/"
        },
        "collapsed": true,
        "id": "Cd38t4BXyas6",
        "outputId": "e658dcab-3e0d-4e38-974e-8a502e18a555"
      },
      "outputs": [
        {
          "output_type": "stream",
          "name": "stdout",
          "text": [
            "13 128 13 5\n",
            "Epoch 1 - Loss: 1.8914\n",
            "----------------------------------------------------------\n",
            "Epoch 2 - Loss: 1.7103\n",
            "----------------------------------------------------------\n",
            "Epoch 3 - Loss: 1.6565\n",
            "----------------------------------------------------------\n",
            "Epoch 4 - Loss: 1.6201\n",
            "----------------------------------------------------------\n",
            "Epoch 5 - Loss: 1.5760\n",
            "----------------------------------------------------------\n",
            "Epoch 6 - Loss: 1.5080\n",
            "----------------------------------------------------------\n",
            "Epoch 7 - Loss: 1.4435\n",
            "----------------------------------------------------------\n",
            "Epoch 8 - Loss: 1.3819\n",
            "----------------------------------------------------------\n",
            "Epoch 9 - Loss: 1.3270\n",
            "----------------------------------------------------------\n",
            "Epoch 10 - Loss: 1.2812\n",
            "Q: 8-699       T: -691    Guess: -699  ☒\n",
            "Q: 4793+3      T: 4796    Guess: 5999  ☒\n",
            "Q: 8617+0      T: 8617    Guess: 8814  ☒\n",
            "Q: 651+26      T: 677     Guess: 699   ☒\n",
            "Q: 1-794       T: -793    Guess: -770  ☒\n",
            "Q: 5798-6      T: 5792    Guess: 5599  ☒\n",
            "Q: 0-176       T: -176    Guess: -154  ☒\n",
            "Q: 164-61      T: 103     Guess: 15    ☒\n",
            "Q: 605-1       T: 604     Guess: 614   ☒\n",
            "Q: 62+5        T: 67      Guess: 60    ☒\n",
            "----------------------------------------------------------\n",
            "Epoch 11 - Loss: 1.2411\n",
            "----------------------------------------------------------\n",
            "Epoch 12 - Loss: 1.2038\n",
            "----------------------------------------------------------\n",
            "Epoch 13 - Loss: 1.1734\n",
            "----------------------------------------------------------\n",
            "Epoch 14 - Loss: 1.1472\n",
            "----------------------------------------------------------\n",
            "Epoch 15 - Loss: 1.1229\n",
            "----------------------------------------------------------\n",
            "Epoch 16 - Loss: 1.1013\n",
            "----------------------------------------------------------\n",
            "Epoch 17 - Loss: 1.0817\n",
            "----------------------------------------------------------\n",
            "Epoch 18 - Loss: 1.0624\n",
            "----------------------------------------------------------\n",
            "Epoch 19 - Loss: 1.0452\n",
            "----------------------------------------------------------\n",
            "Epoch 20 - Loss: 1.0296\n",
            "Q: 37-38       T: -1      Guess: -1    ☑\n",
            "Q: 3+304       T: 307     Guess: 318   ☒\n",
            "Q: 76+87       T: 163     Guess: 168   ☒\n",
            "Q: 902+198     T: 1100    Guess: 140   ☒\n",
            "Q: 2+215       T: 217     Guess: 225   ☒\n",
            "Q: 6392-44     T: 6348    Guess: 6394  ☒\n",
            "Q: 39-3819     T: -3780   Guess: -3864 ☒\n",
            "Q: 7+365       T: 372     Guess: 363   ☒\n",
            "Q: 69-56       T: 13      Guess: 1     ☒\n",
            "Q: 3917-3      T: 3914    Guess: 3964  ☒\n",
            "----------------------------------------------------------\n",
            "Epoch 21 - Loss: 1.0125\n",
            "----------------------------------------------------------\n",
            "Epoch 22 - Loss: 0.9969\n",
            "----------------------------------------------------------\n",
            "Epoch 23 - Loss: 0.9821\n",
            "----------------------------------------------------------\n",
            "Epoch 24 - Loss: 0.9675\n",
            "----------------------------------------------------------\n",
            "Epoch 25 - Loss: 0.9547\n",
            "----------------------------------------------------------\n",
            "Epoch 26 - Loss: 0.9436\n",
            "----------------------------------------------------------\n",
            "Epoch 27 - Loss: 0.9349\n",
            "----------------------------------------------------------\n",
            "Epoch 28 - Loss: 0.9261\n",
            "----------------------------------------------------------\n",
            "Epoch 29 - Loss: 0.9139\n",
            "----------------------------------------------------------\n",
            "Epoch 30 - Loss: 0.9009\n",
            "Q: 1+663       T: 664     Guess: 663   ☒\n",
            "Q: 0+155       T: 155     Guess: 155   ☑\n",
            "Q: 87+523      T: 610     Guess: 639   ☒\n",
            "Q: 43-154      T: -111    Guess: -119  ☒\n",
            "Q: 2-2496      T: -2494   Guess: -2483 ☒\n",
            "Q: 171-2       T: 169     Guess: 174   ☒\n",
            "Q: 621-814     T: -193    Guess: -244  ☒\n",
            "Q: 719-9       T: 710     Guess: 709   ☒\n",
            "Q: 38-9        T: 29      Guess: 28    ☒\n",
            "Q: 7252-2930   T: 4322    Guess: 4363  ☒\n",
            "----------------------------------------------------------\n",
            "Epoch 31 - Loss: 0.8884\n",
            "----------------------------------------------------------\n",
            "Epoch 32 - Loss: 0.8789\n",
            "----------------------------------------------------------\n",
            "Epoch 33 - Loss: 0.8690\n",
            "----------------------------------------------------------\n",
            "Epoch 34 - Loss: 0.8609\n",
            "----------------------------------------------------------\n",
            "Epoch 35 - Loss: 0.8543\n",
            "----------------------------------------------------------\n",
            "Epoch 36 - Loss: 0.8426\n",
            "----------------------------------------------------------\n",
            "Epoch 37 - Loss: 0.8285\n",
            "----------------------------------------------------------\n",
            "Epoch 38 - Loss: 0.8167\n",
            "----------------------------------------------------------\n",
            "Epoch 39 - Loss: 0.8064\n",
            "----------------------------------------------------------\n",
            "Epoch 40 - Loss: 0.7972\n",
            "Q: 30+4668     T: 4698    Guess: 4799  ☒\n",
            "Q: 1-489       T: -488    Guess: -488  ☑\n",
            "Q: 78-92       T: -14     Guess: -1    ☒\n",
            "Q: 718+201     T: 919     Guess: 963   ☒\n",
            "Q: 598+5       T: 603     Guess: 601   ☒\n",
            "Q: 131-191     T: -60     Guess: -7    ☒\n",
            "Q: 36+20       T: 56      Guess: 55    ☒\n",
            "Q: 6+539       T: 545     Guess: 544   ☒\n",
            "Q: 69-729      T: -660    Guess: -647  ☒\n",
            "Q: 240+4       T: 244     Guess: 247   ☒\n",
            "----------------------------------------------------------\n",
            "Epoch 41 - Loss: 0.7891\n",
            "----------------------------------------------------------\n",
            "Epoch 42 - Loss: 0.7820\n",
            "----------------------------------------------------------\n",
            "Epoch 43 - Loss: 0.7777\n",
            "----------------------------------------------------------\n",
            "Epoch 44 - Loss: 0.7742\n",
            "----------------------------------------------------------\n",
            "Epoch 45 - Loss: 0.7741\n",
            "----------------------------------------------------------\n",
            "Epoch 46 - Loss: 0.7661\n",
            "----------------------------------------------------------\n",
            "Epoch 47 - Loss: 0.7534\n",
            "----------------------------------------------------------\n",
            "Epoch 48 - Loss: 0.7399\n",
            "----------------------------------------------------------\n",
            "Epoch 49 - Loss: 0.7285\n",
            "----------------------------------------------------------\n",
            "Epoch 50 - Loss: 0.7185\n",
            "Q: 788-1       T: 787     Guess: 787   ☑\n",
            "Q: 5281+80     T: 5361    Guess: 5298  ☒\n",
            "Q: 4945-51     T: 4894    Guess: 4899  ☒\n",
            "Q: 699-6354    T: -5655   Guess: -5576 ☒\n",
            "Q: 3123+76     T: 3199    Guess: 3280  ☒\n",
            "Q: 1-1971      T: -1970   Guess: -1961 ☒\n",
            "Q: 4474+1574   T: 6048    Guess: 5817  ☒\n",
            "Q: 742+630     T: 1372    Guess: 1384  ☒\n",
            "Q: 6-9275      T: -9269   Guess: -9279 ☒\n",
            "Q: 874-35      T: 839     Guess: 848   ☒\n",
            "----------------------------------------------------------\n",
            "\n",
            "Evaluating on the entire validation set:\n",
            "unsuccesfully managed to turn into int: -85.0 5109.0\n",
            "type= <class 'float'> <class 'float'>\n",
            "unsuccesfully managed to turn into int: -4.0 1340.0\n",
            "type= <class 'float'> <class 'float'>\n",
            "unsuccesfully managed to turn into int: -67.0 9034.0\n",
            "type= <class 'float'> <class 'float'>\n",
            "unsuccesfully managed to turn into int: -1.0 449.0\n",
            "type= <class 'float'> <class 'float'>\n",
            "unsuccesfully managed to turn into int: -7.0 4070.0\n",
            "type= <class 'float'> <class 'float'>\n",
            "unsuccesfully managed to turn into int: 7.0 1621.0\n",
            "type= <class 'float'> <class 'float'>\n",
            "unsuccesfully managed to turn into int: 9.0 -131.0\n",
            "type= <class 'float'> <class 'float'>\n",
            "\n",
            "Overall evaluation accuracy: 313/4000 = 7.83%\n",
            "Average numerical distance from correct answer: 157.36\n"
          ]
        }
      ],
      "source": [
        "\n",
        "model = Sequential(\n",
        "    input_dim=len(chars),\n",
        "    hidden_size=config[\"hidden_size\"],\n",
        "    output_dim=len(chars),\n",
        "    repeat_len=config[\"digits\"] + 1\n",
        ").to(device)\n",
        "\n",
        "model = model.to(device)\n",
        "\n",
        "criterion = nn.CrossEntropyLoss()\n",
        "optimizer = optim.Adam(model.parameters(), lr=0.001)\n",
        "train(model, x_train_tens,y_train_tens,x_val_tens,y_val_tens,config)\n",
        "evaluate(model,x_val_tens,y_val_tens)"
      ]
    },
    {
      "cell_type": "markdown",
      "source": [
        "##1.2)\n",
        "\n",
        "\n",
        "a) Do you think this model performs well?  Why or why not?     \n",
        "b) What are its limitations?   \n",
        "c) What would you do to improve it?    \n",
        "d) Can you apply an attention mechanism to this model? Why or why not?   \n",
        "\n",
        "Answer:\n",
        "\n",
        "a) No, i think the model did pretty bad job, we cant relly on this model to give us the correct prediction for the arithmetic addition and subtraction questions. The accuracy of the model is pretty low - 8%, But in the other hand most of the Guesses comes pretty close to the true answer (average distance - 157), so maybe more epochs will improve the model even more.  \n",
        "\n",
        "b) The primary limitation is that the model treats this arithmetic task as a classification problem over thousands of potential outputs (from -9999 to 19,998), making it computationally challenging and impractical.  \n",
        "\n",
        "c) To improve the model we can:  \n",
        "-  Increase model complexity: Add more hidden units or layers to imporove its ability to capture complex patterns.\n",
        "-  Longer training: Train for more epochs to allow better convergence.  \n",
        "-  Increase data size: A larger dataset might help the model better generalize arithmetic operations.  \n",
        "- Add advanced mechanisms and layers to the model,like adding attention mechanism.  \n",
        "\n",
        "d) Yes, i can add an attention mechanism to this model. Attention mechanisms allow the model to focus on relevant portions of the input when generating each element of the output, potentially improving its understanding of the arithmetic structure in sequences."
      ],
      "metadata": {
        "id": "l9HGmFU4Nbky"
      }
    },
    {
      "cell_type": "markdown",
      "metadata": {
        "id": "21pHdPJWerX3"
      },
      "source": [
        "## 1.3)\n",
        "##Adding Attention layer\n",
        "I have used bahdanau attention and not Luong since it performed much better.\n"
      ]
    },
    {
      "cell_type": "markdown",
      "metadata": {
        "id": "_PCEZZJSos1x"
      },
      "source": [
        "Defining the attention model"
      ]
    },
    {
      "cell_type": "code",
      "execution_count": 8,
      "metadata": {
        "id": "KzWGpnKdEWz2"
      },
      "outputs": [],
      "source": [
        "import torch\n",
        "import torch.nn as nn\n",
        "import torch.nn.functional as F\n",
        "import math\n",
        "\n",
        "class BahdanauAttention(nn.Module):\n",
        "    def __init__(self, hidden_size):\n",
        "        super(BahdanauAttention, self).__init__()\n",
        "        self.Wa = nn.Linear(hidden_size, hidden_size)\n",
        "        self.Ua = nn.Linear(hidden_size, hidden_size)\n",
        "        self.Va = nn.Linear(hidden_size, 1)\n",
        "\n",
        "    def forward(self, query, keys):\n",
        "        \"\"\"\n",
        "        query: (B, H) or (B, 1, H) — the decoder hidden state.\n",
        "        keys: (B, seq_len, H) — the encoder outputs.\n",
        "\n",
        "        Returns:\n",
        "          context: (B, H) — the attention-weighted context vector.\n",
        "          weights: (B, seq_len) — attention weights.\n",
        "        \"\"\"\n",
        "        # Ensure query is (B, 1, H)\n",
        "        if query.dim() == 2:\n",
        "            query = query.unsqueeze(1)  # (B, 1, H)\n",
        "\n",
        "        # Wa(query): (B, 1, H); Ua(keys): (B, seq_len, H) => broadcasted addition yields (B, seq_len, H)\n",
        "        scores = self.Va(torch.tanh(self.Wa(query) + self.Ua(keys)))  # (B, seq_len, 1)\n",
        "        # Rearrange scores to (B, 1, seq_len)\n",
        "        scores = scores.squeeze(2).unsqueeze(1)  # (B, 1, seq_len)\n",
        "        weights = F.softmax(scores, dim=-1)  # (B, 1, seq_len)\n",
        "        context = torch.bmm(weights, keys)  # (B, 1, H)\n",
        "        context = context.squeeze(1)  # (B, H)\n",
        "        weights = weights.squeeze(1)\n",
        "        return context, weights\n",
        "\n",
        "class Seq2SeqWithAttention(nn.Module):\n",
        "    def __init__(self, input_dim, hidden_size, output_dim, repeat_len):\n",
        "        \"\"\"\n",
        "        Args:\n",
        "          input_dim  = number of input features (e.g. len(chars))\n",
        "          hidden_size = LSTM hidden dimension\n",
        "          output_dim  = number of output features (e.g. len(chars))\n",
        "          repeat_len  = number of timesteps to decode (e.g., config.digits+1)\n",
        "        \"\"\"\n",
        "        super().__init__()\n",
        "        self.hidden_size = hidden_size\n",
        "        self.repeat_len = repeat_len\n",
        "        self.encoder = nn.LSTM(input_dim, hidden_size, batch_first=True)\n",
        "        self.decoder = nn.LSTMCell(hidden_size, hidden_size)\n",
        "        # Replace DotAttention with BahdanauAttention:\n",
        "        self.attention = BahdanauAttention(hidden_size)\n",
        "        self.output_linear = nn.Linear(hidden_size, output_dim)\n",
        "\n",
        "    def forward(self, x):\n",
        "        \"\"\"\n",
        "        x: (B, seq_len, input_dim)\n",
        "        Returns:\n",
        "          outputs: (B, repeat_len, output_dim) with raw logits.\n",
        "        \"\"\"\n",
        "        batch_size = x.size(0)\n",
        "        # Encoder: outputs is (B, seq_len, H), hidden and cell are (num_layers, B, H)\n",
        "        encoder_outputs, (enc_hidden, enc_cell) = self.encoder(x)\n",
        "        # Squeeze the layer dimension (we have only one layer)\n",
        "        dec_hidden = enc_hidden.squeeze(0)  # (B, H)\n",
        "        dec_cell   = enc_cell.squeeze(0)      # (B, H)\n",
        "        all_outputs = []\n",
        "\n",
        "        for t in range(self.repeat_len):\n",
        "            # Compute attention context using the current decoder hidden state.\n",
        "            context, attn_weights = self.attention(dec_hidden, encoder_outputs)\n",
        "            dec_hidden, dec_cell = self.decoder(context, (dec_hidden, dec_cell))\n",
        "            logits = self.output_linear(dec_hidden)  # (B, output_dim)\n",
        "            all_outputs.append(logits.unsqueeze(1))\n",
        "\n",
        "        outputs = torch.cat(all_outputs, dim=1)  # (B, repeat_len, output_dim)\n",
        "        return outputs\n"
      ]
    },
    {
      "cell_type": "markdown",
      "metadata": {
        "id": "qGQ6_ZFioxkW"
      },
      "source": [
        "Train and evaluate the attention model"
      ]
    },
    {
      "cell_type": "code",
      "execution_count": 9,
      "metadata": {
        "colab": {
          "base_uri": "https://localhost:8080/"
        },
        "id": "plbU2ZovEbps",
        "outputId": "310b8e8b-d781-464d-c19a-a857a0c19f26"
      },
      "outputs": [
        {
          "output_type": "stream",
          "name": "stdout",
          "text": [
            "13\n",
            "Epoch 1 - Loss: 1.9131\n",
            "----------------------------------------------------------\n",
            "Epoch 2 - Loss: 1.7045\n",
            "----------------------------------------------------------\n",
            "Epoch 3 - Loss: 1.6593\n",
            "----------------------------------------------------------\n",
            "Epoch 4 - Loss: 1.6354\n",
            "----------------------------------------------------------\n",
            "Epoch 5 - Loss: 1.6037\n",
            "----------------------------------------------------------\n",
            "Epoch 6 - Loss: 1.5620\n",
            "----------------------------------------------------------\n",
            "Epoch 7 - Loss: 1.4970\n",
            "----------------------------------------------------------\n",
            "Epoch 8 - Loss: 1.4233\n",
            "----------------------------------------------------------\n",
            "Epoch 9 - Loss: 1.3555\n",
            "----------------------------------------------------------\n",
            "Epoch 10 - Loss: 1.2927\n",
            "Q: 325+60      T: 385     Guess: 319   ☒\n",
            "Q: 728-1108    T: -380    Guess: -13   ☒\n",
            "Q: 204-829     T: -625    Guess: -534  ☒\n",
            "Q: 516+67      T: 583     Guess: 611   ☒\n",
            "Q: 2035+4775   T: 6810    Guess: 5999  ☒\n",
            "Q: 762-89      T: 673     Guess: 744   ☒\n",
            "Q: 4-94        T: -90     Guess: -83   ☒\n",
            "Q: 8+8480      T: 8488    Guess: 8834  ☒\n",
            "Q: 25-76       T: -51     Guess: -55   ☒\n",
            "Q: 5+34        T: 39      Guess: 44    ☒\n",
            "----------------------------------------------------------\n",
            "Epoch 11 - Loss: 1.2390\n",
            "----------------------------------------------------------\n",
            "Epoch 12 - Loss: 1.1945\n",
            "----------------------------------------------------------\n",
            "Epoch 13 - Loss: 1.1552\n",
            "----------------------------------------------------------\n",
            "Epoch 14 - Loss: 1.1224\n",
            "----------------------------------------------------------\n",
            "Epoch 15 - Loss: 1.0950\n",
            "----------------------------------------------------------\n",
            "Epoch 16 - Loss: 1.0664\n",
            "----------------------------------------------------------\n",
            "Epoch 17 - Loss: 1.0401\n",
            "----------------------------------------------------------\n",
            "Epoch 18 - Loss: 1.0157\n",
            "----------------------------------------------------------\n",
            "Epoch 19 - Loss: 0.9924\n",
            "----------------------------------------------------------\n",
            "Epoch 20 - Loss: 0.9710\n",
            "Q: 388+727     T: 1115    Guess: 1144  ☒\n",
            "Q: 90-272      T: -182    Guess: -176  ☒\n",
            "Q: 6796+909    T: 7705    Guess: 7794  ☒\n",
            "Q: 99+94       T: 193     Guess: 180   ☒\n",
            "Q: 5332-191    T: 5141    Guess: 5049  ☒\n",
            "Q: 1330+9861   T: 11191   Guess: 10119 ☒\n",
            "Q: 3757-59     T: 3698    Guess: 3619  ☒\n",
            "Q: 8+500       T: 508     Guess: 508   ☑\n",
            "Q: 4-862       T: -858    Guess: -861  ☒\n",
            "Q: 1-507       T: -506    Guess: -501  ☒\n",
            "----------------------------------------------------------\n",
            "Epoch 21 - Loss: 0.9533\n",
            "----------------------------------------------------------\n",
            "Epoch 22 - Loss: 0.9354\n",
            "----------------------------------------------------------\n",
            "Epoch 23 - Loss: 0.9237\n",
            "----------------------------------------------------------\n",
            "Epoch 24 - Loss: 0.9029\n",
            "----------------------------------------------------------\n",
            "Epoch 25 - Loss: 0.8836\n",
            "----------------------------------------------------------\n",
            "Epoch 26 - Loss: 0.8742\n",
            "----------------------------------------------------------\n",
            "Epoch 27 - Loss: 0.8546\n",
            "----------------------------------------------------------\n",
            "Epoch 28 - Loss: 0.8341\n",
            "----------------------------------------------------------\n",
            "Epoch 29 - Loss: 0.8166\n",
            "----------------------------------------------------------\n",
            "Epoch 30 - Loss: 0.8016\n",
            "Q: 53-2533     T: -2480   Guess: -2490 ☒\n",
            "Q: 4002+870    T: 4872    Guess: 4999  ☒\n",
            "Q: 3291-1630   T: 1661    Guess: 1796  ☒\n",
            "Q: 8+13        T: 21      Guess: 20    ☒\n",
            "Q: 318-85      T: 233     Guess: 239   ☒\n",
            "Q: 8778+1      T: 8779    Guess: 8787  ☒\n",
            "Q: 3+3581      T: 3584    Guess: 3583  ☒\n",
            "Q: 8384-3901   T: 4483    Guess: 4299  ☒\n",
            "Q: 4-8266      T: -8262   Guess: -8269 ☒\n",
            "Q: 7-4353      T: -4346   Guess: -4347 ☒\n",
            "----------------------------------------------------------\n",
            "Epoch 31 - Loss: 0.7853\n",
            "----------------------------------------------------------\n",
            "Epoch 32 - Loss: 0.7712\n",
            "----------------------------------------------------------\n",
            "Epoch 33 - Loss: 0.7595\n",
            "----------------------------------------------------------\n",
            "Epoch 34 - Loss: 0.7464\n",
            "----------------------------------------------------------\n",
            "Epoch 35 - Loss: 0.7304\n",
            "----------------------------------------------------------\n",
            "Epoch 36 - Loss: 0.7095\n",
            "----------------------------------------------------------\n",
            "Epoch 37 - Loss: 0.6941\n",
            "----------------------------------------------------------\n",
            "Epoch 38 - Loss: 0.6814\n",
            "----------------------------------------------------------\n",
            "Epoch 39 - Loss: 0.6662\n",
            "----------------------------------------------------------\n",
            "Epoch 40 - Loss: 0.6580\n",
            "Q: 725-829     T: -104    Guess: -10   ☒\n",
            "Q: 21+8856     T: 8877    Guess: 8899  ☒\n",
            "Q: 97+940      T: 1037    Guess: 1037  ☑\n",
            "Q: 9977-4      T: 9973    Guess: 9971  ☒\n",
            "Q: 69+89       T: 158     Guess: 159   ☒\n",
            "Q: 894-95      T: 799     Guess: 798   ☒\n",
            "Q: 587-98      T: 489     Guess: 488   ☒\n",
            "Q: 0-439       T: -439    Guess: -4398 ☒\n",
            "Q: 3813+56     T: 3869    Guess: 3878  ☒\n",
            "Q: 7563+1958   T: 9521    Guess: 9546  ☒\n",
            "----------------------------------------------------------\n",
            "Epoch 41 - Loss: 0.6480\n",
            "----------------------------------------------------------\n",
            "Epoch 42 - Loss: 0.6377\n",
            "----------------------------------------------------------\n",
            "Epoch 43 - Loss: 0.6327\n",
            "----------------------------------------------------------\n",
            "Epoch 44 - Loss: 0.6154\n",
            "----------------------------------------------------------\n",
            "Epoch 45 - Loss: 0.5951\n",
            "----------------------------------------------------------\n",
            "Epoch 46 - Loss: 0.5771\n",
            "----------------------------------------------------------\n",
            "Epoch 47 - Loss: 0.5604\n",
            "----------------------------------------------------------\n",
            "Epoch 48 - Loss: 0.5461\n",
            "----------------------------------------------------------\n",
            "Epoch 49 - Loss: 0.5361\n",
            "----------------------------------------------------------\n",
            "Epoch 50 - Loss: 0.5240\n",
            "Q: 7581-542    T: 7039    Guess: 7043  ☒\n",
            "Q: 24-1898     T: -1874   Guess: -1862 ☒\n",
            "Q: 89-6938     T: -6849   Guess: -6732 ☒\n",
            "Q: 600+3       T: 603     Guess: 603   ☑\n",
            "Q: 5332-191    T: 5141    Guess: 5140  ☒\n",
            "Q: 677+594     T: 1271    Guess: 1251  ☒\n",
            "Q: 3876-66     T: 3810    Guess: 3710  ☒\n",
            "Q: 20-26       T: -6      Guess: -5    ☒\n",
            "Q: 722+73      T: 795     Guess: 796   ☒\n",
            "Q: 639+4       T: 643     Guess: 643   ☑\n",
            "----------------------------------------------------------\n",
            "\n",
            "Evaluating on the entire validation set:\n",
            "unsuccesfully managed to turn into int: 1.0 13379.0\n",
            "type= <class 'float'> <class 'float'>\n",
            "unsuccesfully managed to turn into int: -7.0 27.0\n",
            "type= <class 'float'> <class 'float'>\n",
            "unsuccesfully managed to turn into int: -7.0 682.0\n",
            "type= <class 'float'> <class 'float'>\n",
            "unsuccesfully managed to turn into int: 2.0 958.0\n",
            "type= <class 'float'> <class 'float'>\n",
            "unsuccesfully managed to turn into int: -1.0 448.0\n",
            "type= <class 'float'> <class 'float'>\n",
            "unsuccesfully managed to turn into int: -1.0 8024.0\n",
            "type= <class 'float'> <class 'float'>\n",
            "unsuccesfully managed to turn into int: -5.0 -4637.0\n",
            "type= <class 'float'> <class 'float'>\n",
            "\n",
            "Overall evaluation accuracy: 872/4000 = 21.80%\n",
            "Average numerical distance from correct answer: 129.14\n"
          ]
        }
      ],
      "source": [
        "\n",
        "att_model = Seq2SeqWithAttention(\n",
        "    input_dim=len(chars),\n",
        "    hidden_size=config[\"hidden_size\"],\n",
        "    output_dim=len(chars),\n",
        "    repeat_len=config[\"digits\"] +1\n",
        ").to(device)\n",
        "\n",
        "print(len(chars))\n",
        "criterion = nn.CrossEntropyLoss()\n",
        "optimizer = optim.Adam(att_model.parameters(), lr=0.001)\n",
        "\n",
        "train(att_model, x_train_tens,y_train_tens,x_val_tens,y_val_tens,config)\n",
        "evaluate(att_model,x_val_tens,y_val_tens)\n"
      ]
    },
    {
      "cell_type": "markdown",
      "source": [
        "We have better accuracy compared to the first model, also the average distance is lower."
      ],
      "metadata": {
        "id": "BMcXCQqQxyVV"
      }
    },
    {
      "cell_type": "markdown",
      "metadata": {
        "id": "Culgw6x3XRwQ"
      },
      "source": [
        "## 1.3) My net"
      ]
    },
    {
      "cell_type": "markdown",
      "source": [
        "I have changed the LSTM to be bidirectional."
      ],
      "metadata": {
        "id": "XbioQSvfJK8k"
      }
    },
    {
      "cell_type": "code",
      "execution_count": 10,
      "metadata": {
        "id": "ihHfnmDxuFxi"
      },
      "outputs": [],
      "source": [
        "import torch\n",
        "import torch.nn as nn\n",
        "import torch.nn.functional as F\n",
        "\n",
        "# class DotAttention(nn.Module):\n",
        "#     \"\"\"\n",
        "#     Dot-product attention:\n",
        "#       scores = encoder_outputs (B, seq_len, H) dot decoder_hidden (B, 1, H)\n",
        "#       alpha = softmax(scores) over seq_len\n",
        "#       context = sum(alpha_i * encoder_outputs_i)\n",
        "#     \"\"\"\n",
        "#     def __init__(self):\n",
        "#         super().__init__()\n",
        "\n",
        "#     def forward(self, decoder_hidden, encoder_outputs):\n",
        "#         \"\"\"\n",
        "#         decoder_hidden: (B, H)\n",
        "#         encoder_outputs: (B, seq_len, H)\n",
        "\n",
        "#         returns:\n",
        "#           context: (B, H)\n",
        "#           attn_weights: (B, seq_len)\n",
        "#         \"\"\"\n",
        "#         # Expand decoder_hidden to (B, 1, H) for batched dot-product\n",
        "#         dec_hidden_expanded = decoder_hidden.unsqueeze(1)  # (B, 1, H)\n",
        "#         # scores: (B, seq_len)\n",
        "#         scores = torch.bmm(encoder_outputs, dec_hidden_expanded.transpose(1, 2)).squeeze(-1)\n",
        "#         attn_weights = F.softmax(scores, dim=-1)  # (B, seq_len)\n",
        "#         # Compute the weighted sum of encoder_outputs\n",
        "#         context = torch.bmm(attn_weights.unsqueeze(1), encoder_outputs).squeeze(1)  # (B, H)\n",
        "#         return context, attn_weights\n",
        "\n",
        "class Seq2SeqWithAttentionBidi(nn.Module):\n",
        "    def __init__(self, input_dim, hidden_size, output_dim, repeat_len):\n",
        "        \"\"\"\n",
        "        Args:\n",
        "          input_dim  = number of input features (e.g., len(chars))\n",
        "          hidden_size = LSTM hidden dimension\n",
        "          output_dim  = number of output features (e.g., len(chars))\n",
        "          repeat_len  = number of timesteps to decode (e.g., config.digits+1)\n",
        "        \"\"\"\n",
        "        super().__init__()\n",
        "        self.hidden_size = hidden_size\n",
        "        self.repeat_len = repeat_len\n",
        "\n",
        "        # Bidirectional encoder: outputs shape -> (B, seq_len, 2*hidden_size)\n",
        "        self.encoder = nn.LSTM(input_dim, hidden_size, batch_first=True, bidirectional=True)\n",
        "\n",
        "        # Decoder remains unidirectional (LSTMCell expects hidden state of size (B, hidden_size))\n",
        "        self.decoder = nn.LSTMCell(hidden_size, hidden_size)\n",
        "        self.attention = BahdanauAttention(hidden_size)\n",
        "        self.output_linear = nn.Linear(hidden_size, output_dim)\n",
        "\n",
        "    def forward(self, x):\n",
        "        \"\"\"\n",
        "        x: (B, seq_len, input_dim)\n",
        "        Returns:\n",
        "          outputs: (B, repeat_len, output_dim) (raw logits)\n",
        "        \"\"\"\n",
        "        batch_size = x.size(0)\n",
        "        encoder_outputs, (enc_hidden, enc_cell) = self.encoder(x)\n",
        "        encoder_outputs = encoder_outputs[:, :, :self.hidden_size] + encoder_outputs[:, :, self.hidden_size:]\n",
        "        dec_hidden = enc_hidden[0] + enc_hidden[1]  # (B, hidden_size)\n",
        "        dec_cell   = enc_cell[0] + enc_cell[1]        # (B, hidden_size)\n",
        "\n",
        "        all_outputs = []\n",
        "        for t in range(self.repeat_len):\n",
        "            context, attn_weights = self.attention(dec_hidden, encoder_outputs)\n",
        "            dec_hidden, dec_cell = self.decoder(context, (dec_hidden, dec_cell))\n",
        "            logits = self.output_linear(dec_hidden)  # (B, output_dim)\n",
        "            all_outputs.append(logits.unsqueeze(1))\n",
        "\n",
        "        outputs = torch.cat(all_outputs, dim=1)  # (B, repeat_len, output_dim)\n",
        "        return outputs\n"
      ]
    },
    {
      "cell_type": "code",
      "execution_count": 11,
      "metadata": {
        "colab": {
          "base_uri": "https://localhost:8080/"
        },
        "id": "JvaOL0ROO5JJ",
        "outputId": "3ec28634-aaaa-482e-875f-6cd03a874048"
      },
      "outputs": [
        {
          "output_type": "stream",
          "name": "stdout",
          "text": [
            "13\n",
            "Epoch 1 - Loss: 1.8625\n",
            "----------------------------------------------------------\n",
            "Epoch 2 - Loss: 1.5942\n",
            "----------------------------------------------------------\n",
            "Epoch 3 - Loss: 1.4017\n",
            "----------------------------------------------------------\n",
            "Epoch 4 - Loss: 1.2070\n",
            "----------------------------------------------------------\n",
            "Epoch 5 - Loss: 1.1241\n",
            "----------------------------------------------------------\n",
            "Epoch 6 - Loss: 1.0529\n",
            "----------------------------------------------------------\n",
            "Epoch 7 - Loss: 0.9870\n",
            "----------------------------------------------------------\n",
            "Epoch 8 - Loss: 0.9213\n",
            "----------------------------------------------------------\n",
            "Epoch 9 - Loss: 0.8572\n",
            "----------------------------------------------------------\n",
            "Epoch 10 - Loss: 0.7890\n",
            "Q: 8778+1      T: 8779    Guess: 8779  ☑\n",
            "Q: 75+83       T: 158     Guess: 159   ☒\n",
            "Q: 51+3507     T: 3558    Guess: 3561  ☒\n",
            "Q: 744-16      T: 728     Guess: 726   ☒\n",
            "Q: 361+3       T: 364     Guess: 364   ☑\n",
            "Q: 87-9339     T: -9252   Guess: -9270 ☒\n",
            "Q: 328+88      T: 416     Guess: 416   ☑\n",
            "Q: 215-77      T: 138     Guess: 153   ☒\n",
            "Q: 942-940     T: 2       Guess: -74   ☒\n",
            "Q: 2-5533      T: -5531   Guess: -5531 ☑\n",
            "----------------------------------------------------------\n",
            "Epoch 11 - Loss: 0.7132\n",
            "----------------------------------------------------------\n",
            "Epoch 12 - Loss: 0.6443\n",
            "----------------------------------------------------------\n",
            "Epoch 13 - Loss: 0.5984\n",
            "----------------------------------------------------------\n",
            "Epoch 14 - Loss: 0.5619\n",
            "----------------------------------------------------------\n",
            "Epoch 15 - Loss: 0.5279\n",
            "----------------------------------------------------------\n",
            "Epoch 16 - Loss: 0.5162\n",
            "----------------------------------------------------------\n",
            "Epoch 17 - Loss: 0.5207\n",
            "----------------------------------------------------------\n",
            "Epoch 18 - Loss: 0.4606\n",
            "----------------------------------------------------------\n",
            "Epoch 19 - Loss: 0.4500\n",
            "----------------------------------------------------------\n",
            "Epoch 20 - Loss: 0.4066\n",
            "Q: 33+982      T: 1015    Guess: 1014  ☒\n",
            "Q: 20+27       T: 47      Guess: 47    ☑\n",
            "Q: 8787+86     T: 8873    Guess: 8873  ☑\n",
            "Q: 790+305     T: 1095    Guess: 1195  ☒\n",
            "Q: 3969+3      T: 3972    Guess: 3972  ☑\n",
            "Q: 11-394      T: -383    Guess: -383  ☑\n",
            "Q: 64-128      T: -64     Guess: -74   ☒\n",
            "Q: 4576+3434   T: 8010    Guess: 8010  ☑\n",
            "Q: 618+4       T: 622     Guess: 622   ☑\n",
            "Q: 112-9365    T: -9253   Guess: -9244 ☒\n",
            "----------------------------------------------------------\n",
            "Epoch 21 - Loss: 0.3880\n",
            "----------------------------------------------------------\n",
            "Epoch 22 - Loss: 0.3635\n",
            "----------------------------------------------------------\n",
            "Epoch 23 - Loss: 0.3335\n",
            "----------------------------------------------------------\n",
            "Epoch 24 - Loss: 0.3143\n",
            "----------------------------------------------------------\n",
            "Epoch 25 - Loss: 0.2771\n",
            "----------------------------------------------------------\n",
            "Epoch 26 - Loss: 0.2828\n",
            "----------------------------------------------------------\n",
            "Epoch 27 - Loss: 0.2674\n",
            "----------------------------------------------------------\n",
            "Epoch 28 - Loss: 0.2263\n",
            "----------------------------------------------------------\n",
            "Epoch 29 - Loss: 0.2204\n",
            "----------------------------------------------------------\n",
            "Epoch 30 - Loss: 0.2259\n",
            "Q: 1+4217      T: 4218    Guess: 4218  ☑\n",
            "Q: 2802+4      T: 2806    Guess: 2806  ☑\n",
            "Q: 31+583      T: 614     Guess: 614   ☑\n",
            "Q: 6+5524      T: 5530    Guess: 5530  ☑\n",
            "Q: 97+433      T: 530     Guess: 520   ☒\n",
            "Q: 0-855       T: -855    Guess: -855  ☑\n",
            "Q: 1975+7259   T: 9234    Guess: 9234  ☑\n",
            "Q: 11-49       T: -38     Guess: -38   ☑\n",
            "Q: 280-913     T: -633    Guess: -533  ☒\n",
            "Q: 1+4808      T: 4809    Guess: 4809  ☑\n",
            "----------------------------------------------------------\n",
            "Epoch 31 - Loss: 0.2029\n",
            "----------------------------------------------------------\n",
            "Epoch 32 - Loss: 0.1815\n",
            "----------------------------------------------------------\n",
            "Epoch 33 - Loss: 0.1855\n",
            "----------------------------------------------------------\n",
            "Epoch 34 - Loss: 0.2109\n",
            "----------------------------------------------------------\n",
            "Epoch 35 - Loss: 0.1704\n",
            "----------------------------------------------------------\n",
            "Epoch 36 - Loss: 0.1652\n",
            "----------------------------------------------------------\n",
            "Epoch 37 - Loss: 0.1694\n",
            "----------------------------------------------------------\n",
            "Epoch 38 - Loss: 0.1425\n",
            "----------------------------------------------------------\n",
            "Epoch 39 - Loss: 0.1826\n",
            "----------------------------------------------------------\n",
            "Epoch 40 - Loss: 0.1180\n",
            "Q: 4+9947      T: 9951    Guess: 9951  ☑\n",
            "Q: 525-869     T: -344    Guess: -344  ☑\n",
            "Q: 281-989     T: -708    Guess: -708  ☑\n",
            "Q: 1975+7259   T: 9234    Guess: 9234  ☑\n",
            "Q: 1416+8      T: 1424    Guess: 1424  ☑\n",
            "Q: 239-87      T: 152     Guess: 152   ☑\n",
            "Q: 83-39       T: 44      Guess: 44    ☑\n",
            "Q: 2869-8719   T: -5850   Guess: -6960 ☒\n",
            "Q: 2-571       T: -569    Guess: -569  ☑\n",
            "Q: 3889+395    T: 4284    Guess: 4284  ☑\n",
            "----------------------------------------------------------\n",
            "Epoch 41 - Loss: 0.1057\n",
            "----------------------------------------------------------\n",
            "Epoch 42 - Loss: 0.1030\n",
            "----------------------------------------------------------\n",
            "Epoch 43 - Loss: 0.1028\n",
            "----------------------------------------------------------\n",
            "Epoch 44 - Loss: 0.1678\n",
            "----------------------------------------------------------\n",
            "Epoch 45 - Loss: 0.1094\n",
            "----------------------------------------------------------\n",
            "Epoch 46 - Loss: 0.0910\n",
            "----------------------------------------------------------\n",
            "Epoch 47 - Loss: 0.0900\n",
            "----------------------------------------------------------\n",
            "Epoch 48 - Loss: 0.1041\n",
            "----------------------------------------------------------\n",
            "Epoch 49 - Loss: 0.1144\n",
            "----------------------------------------------------------\n",
            "Epoch 50 - Loss: 0.0916\n",
            "Q: 101+57      T: 158     Guess: 158   ☑\n",
            "Q: 20+824      T: 844     Guess: 844   ☑\n",
            "Q: 87+4117     T: 4204    Guess: 4204  ☑\n",
            "Q: 6053+110    T: 6163    Guess: 6163  ☑\n",
            "Q: 613-112     T: 501     Guess: 501   ☑\n",
            "Q: 181-315     T: -134    Guess: -134  ☑\n",
            "Q: 714+5286    T: 6000    Guess: 6090  ☒\n",
            "Q: 1132+7885   T: 9017    Guess: 9017  ☑\n",
            "Q: 624+495     T: 1119    Guess: 1119  ☑\n",
            "Q: 472+7517    T: 7989    Guess: 8099  ☒\n",
            "----------------------------------------------------------\n",
            "\n",
            "Evaluating on the entire validation set:\n",
            "unsuccesfully managed to turn into int: -1.0 447.0\n",
            "type= <class 'float'> <class 'float'>\n",
            "unsuccesfully managed to turn into int: -3.0 9806.0\n",
            "type= <class 'float'> <class 'float'>\n",
            "\n",
            "Overall evaluation accuracy: 3244/4000 = 81.10%\n",
            "Average numerical distance from correct answer: 55.96\n"
          ]
        }
      ],
      "source": [
        "my_model = Seq2SeqWithAttentionBidi(\n",
        "    input_dim=len(chars),\n",
        "    hidden_size=config[\"hidden_size\"],\n",
        "    output_dim=len(chars),\n",
        "    repeat_len=config[\"digits\"] +1\n",
        ").to(device)\n",
        "\n",
        "print(len(chars))\n",
        "criterion = nn.CrossEntropyLoss()\n",
        "optimizer = optim.Adam(my_model.parameters(), lr=0.001)\n",
        "\n",
        "train(my_model, x_train_tens,y_train_tens,x_val_tens,y_val_tens,config)\n",
        "evaluate(my_model,x_val_tens,y_val_tens)\n"
      ]
    },
    {
      "cell_type": "markdown",
      "source": [
        "At the end, adding an bidirectional LSTM significantly improved the model, we got 81.1% accuracy and the average distance is 55.  \n",
        "Why the model with the bidirectional LSTM performed much better?  \n",
        "Because the two numbers depend on each other in relation to the final result,  \n",
        "A bidirectional LSTM can see the entire sequence in both directions before making predictions so it can more easly generate a correct guess.   \n",
        "In contrast, a unidirectional LSTM processes the first number before seeing the second number, meaning that it creates hidden states for the first number without knowing the second one. This makes it less accurate since it fails to leverage the dependency between both numbers."
      ],
      "metadata": {
        "id": "fTxJ8-HdViMT"
      }
    },
    {
      "cell_type": "markdown",
      "metadata": {
        "id": "X-d0eIM6FeaM"
      },
      "source": [
        "## Part 2: A language translation model with attention"
      ]
    },
    {
      "cell_type": "markdown",
      "metadata": {
        "id": "80jhFbWPMW_a"
      },
      "source": [
        "In this part of the problem set we are going to implement a translation with a Sequence to Sequence Network and Attention model."
      ]
    },
    {
      "cell_type": "markdown",
      "metadata": {
        "id": "TgL38lJGTYaF"
      },
      "source": [
        "0) Please go over the NLP From Scratch: Translation with a Sequence to Sequence Network and Attention [tutorial](https://pytorch.org/tutorials/intermediate/seq2seq_translation_tutorial.html). This attention model is very similar to what was learned in class (Luong), but a bit different. What are the main differences between  Badahnau and Luong attention mechanisms?    \n",
        "\n"
      ]
    },
    {
      "cell_type": "markdown",
      "metadata": {
        "id": "KBX873GJlDl9"
      },
      "source": [
        "1.a) Using `!wget`, `!unzip` , download and extract the [hebrew-english](https://www.manythings.org/anki/) sentence pairs text file to the Colab `content/`  folder (or local folder if not using Colab).\n",
        "1.b) The `heb.txt` must be parsed and cleaned (see tutorial for requirements or change the code as you see fit).   \n"
      ]
    },
    {
      "cell_type": "markdown",
      "metadata": {
        "id": "AvIIlNvPlGWB"
      },
      "source": [
        "2.a) Use the tutorial example to build  and train a Hebrew to English translation model with attention (using the parameters in the code cell below). Apply the same `eng_prefixes` filter to limit the train/test data.   \n",
        "2.b) Evaluate your trained model randomly on 20 sentences.  \n",
        "2.c) Show the attention plot for 5 random sentences.  \n"
      ]
    },
    {
      "cell_type": "markdown",
      "metadata": {
        "id": "qcqtVxkclIWG"
      },
      "source": [
        "3) Do you think this model performs well? Why or why not? What are its limitations/disadvantages? What would you do to improve it?  \n"
      ]
    },
    {
      "cell_type": "markdown",
      "metadata": {
        "id": "i2VSrRNtlJub"
      },
      "source": [
        "4) Using any neural network architecture of your liking, build  a model with the aim to beat the model in 2.a. Compare your results in a meaningful way, and add a short explanation to why you think/thought your suggested network is better."
      ]
    },
    {
      "cell_type": "markdown",
      "metadata": {
        "id": "Et32xHWP_8c8"
      },
      "source": [
        "## 0)\n",
        "In the Luong attention method, as we discussed in class, the attention score is computed using a dot product. Specifically, the score calculation is:  : $e_{tl} = k_t^T *q_l $  and then we take $softmax$ function over $e_{1l}, ..., e_{ml}$ ($ α_l = softmax(e_{1l}, ..., e_{ml})$) for the probabilities of the output.     \n",
        "Although three methods of scoring are offerend in the \" Effective Approaches to Attention-based Neural Machine Translation\" by Luang, in class we learned about the simple one - dot product.\n",
        "\n",
        "On the other hand the score in Badahnau method is calculated differently:\n",
        "$ score(h_t , h_s) = v^T tanh(W_ah_t + U_ah_s)$      followed by $softmax$,  \n",
        "Where $v, W, U $ are learnable weights, making the Bahdanau model more complex to train.  \n",
        "Thus, the main difference between Luong and Bahdanau attention is how the attention score is computed.   \n",
        "In conclussion, the Luong method is linear and computationally simpler. The Bahdanau method is more complex, as it introduces additional parameters and non-linearity, Consequently, Bahdanau attention requires more training time (due to additional learnable weights), but it can improve accuracy in some cases, especially for longer sequences"
      ]
    },
    {
      "cell_type": "code",
      "execution_count": 12,
      "metadata": {
        "id": "c-tVmomvXcKk"
      },
      "outputs": [],
      "source": [
        "# use the following parameters:\n",
        "MAX_LENGTH = 10\n",
        "hidden_size = 128\n",
        "epochs = 50"
      ]
    },
    {
      "cell_type": "markdown",
      "metadata": {
        "id": "J9-C4pLEXzCF"
      },
      "source": [
        "SOLUTION:"
      ]
    },
    {
      "cell_type": "code",
      "execution_count": 13,
      "metadata": {
        "colab": {
          "base_uri": "https://localhost:8080/"
        },
        "id": "_WrHkLD6p813",
        "outputId": "d186729a-475c-482f-c9a7-f1a62916e213"
      },
      "outputs": [
        {
          "output_type": "stream",
          "name": "stdout",
          "text": [
            "--2025-02-23 16:57:01--  http://www.manythings.org/anki/heb-eng.zip\n",
            "Resolving www.manythings.org (www.manythings.org)... 173.254.30.110\n",
            "Connecting to www.manythings.org (www.manythings.org)|173.254.30.110|:80... connected.\n",
            "HTTP request sent, awaiting response... 200 OK\n",
            "Length: 4466359 (4.3M) [application/zip]\n",
            "Saving to: ‘he-en.zip’\n",
            "\n",
            "he-en.zip           100%[===================>]   4.26M  3.57MB/s    in 1.2s    \n",
            "\n",
            "2025-02-23 16:57:03 (3.57 MB/s) - ‘he-en.zip’ saved [4466359/4466359]\n",
            "\n",
            "he-en.zip  sample_data\n",
            "Archive:  he-en.zip\n",
            "  inflating: /content/_about.txt     \n",
            "  inflating: /content/heb.txt        \n",
            "Go.\tלך!\tCC-BY 2.0 (France) Attribution: tatoeba.org #2877272 (CM) & #9435252 (Alkrasnov)\n",
            "Hi.\tהיי.\tCC-BY 2.0 (France) Attribution: tatoeba.org #538123 (CM) & #694680 (Eldad)\n",
            "Hi.\tאהלן.\tCC-BY 2.0 (France) Attribution: tatoeba.org #538123 (CM) & #2184365 (MrShoval)\n",
            "Run!\tרוץ!\tCC-BY 2.0 (France) Attribution: tatoeba.org #906328 (papabear) & #2805053 (Eldad)\n",
            "Run!\tרוצי!\tCC-BY 2.0 (France) Attribution: tatoeba.org #906328 (papabear) & #2805054 (Eldad)\n"
          ]
        }
      ],
      "source": [
        "!wget -O he-en.zip \"http://www.manythings.org/anki/heb-eng.zip\"\n",
        "# Verify extracted files\n",
        "!ls /content/\n",
        "!unzip he-en.zip -d /content/\n",
        "!head -5 /content/heb.txt"
      ]
    },
    {
      "cell_type": "markdown",
      "source": [
        "Defining the language class and the data filtering methods"
      ],
      "metadata": {
        "id": "cAcxQ5ku4cD_"
      }
    },
    {
      "cell_type": "code",
      "execution_count": 14,
      "metadata": {
        "colab": {
          "base_uri": "https://localhost:8080/"
        },
        "id": "bmIbtDdZkTi4",
        "outputId": "2401af95-85cf-45e5-f69e-4cb77d207a9d"
      },
      "outputs": [
        {
          "output_type": "stream",
          "name": "stdout",
          "text": [
            "Reading lines...\n",
            "[['go', 'לך !'], ['hi', 'היי'], ['hi', 'אהלן'], ['run !', 'רוץ !'], ['run !', 'רוצי !'], ['run !', 'רוצו !'], ['who ?', 'מי ?'], ['wow !', 'וואו !'], ['wow !', 'ואו !'], ['duck !', 'תתכופפי !']]\n",
            "Read 128133 sentence pairs\n",
            "Trimmed to 9320 sentence pairs\n",
            "Counting words...\n",
            "Counted words:\n",
            "heb 6206\n",
            "eng 3067\n",
            "['את בבעיה רצינית', 'you re in serious trouble']\n"
          ]
        }
      ],
      "source": [
        "SOS_token = 0\n",
        "EOS_token = 1\n",
        "\n",
        "class Lang:\n",
        "    def __init__(self, name):\n",
        "        self.name = name\n",
        "        self.word2index = {}\n",
        "        self.word2count = {}\n",
        "        self.index2word = {0: \"SOS\", 1: \"EOS\"}\n",
        "        self.n_words = 2  # Count SOS and EOS\n",
        "\n",
        "    def addSentence(self, sentence):\n",
        "        for word in sentence.split(' '):\n",
        "            self.addWord(word)\n",
        "\n",
        "    def addWord(self, word):\n",
        "        if word not in self.word2index:\n",
        "            self.word2index[word] = self.n_words\n",
        "            self.word2count[word] = 1\n",
        "            self.index2word[self.n_words] = word\n",
        "            self.n_words += 1\n",
        "        else:\n",
        "            self.word2count[word] += 1\n",
        "\n",
        "def unicodeToAscii(s):\n",
        "    return ''.join(\n",
        "        c for c in unicodedata.normalize('NFD', s)\n",
        "        if unicodedata.category(c) != 'Mn'\n",
        "    )\n",
        "\n",
        "# Lowercase, trim, and remove non-letter characters\n",
        "def normalizeString(s):\n",
        "    s = unicodeToAscii(s.lower().strip())\n",
        "    s = re.sub(r\"([.!?])\", r\" \\1\", s)\n",
        "    s = re.sub(r\"[^a-zA-Zא-ת!?]+\", r\" \", s)\n",
        "    return s.strip()\n",
        "\n",
        "def readLangs(lang1, lang2, reverse=False, heb =True):\n",
        "    print(\"Reading lines...\")\n",
        "    if heb:\n",
        "      lines = open('/content/heb.txt', encoding='utf-8').\\\n",
        "        read().strip().split('\\n')\n",
        "    # Read the file and split into lines\n",
        "    else:\n",
        "      lines = open('content/%s-%s.txt' % (lang1, lang2), encoding='utf-8').\\\n",
        "          read().strip().split('\\n')\n",
        "\n",
        "    # Split every line into pairs and normalize\n",
        "    pairs = [[normalizeString(s) for s in l.split('\\t')[:2]] for l in lines]\n",
        "    print(pairs[:10])\n",
        "    # Reverse pairs, make Lang instances\n",
        "    if reverse:\n",
        "        pairs = [list(reversed(p)) for p in pairs]\n",
        "        input_lang = Lang(lang2)\n",
        "        output_lang = Lang(lang1)\n",
        "    else:\n",
        "        input_lang = Lang(lang1)\n",
        "        output_lang = Lang(lang2)\n",
        "\n",
        "    return input_lang, output_lang, pairs\n",
        "\n",
        "MAX_LENGTH = 10\n",
        "\n",
        "eng_prefixes = (\n",
        "    \"i am \", \"i m \",\n",
        "    \"he is\", \"he s \",\n",
        "    \"she is\", \"she s \",\n",
        "    \"you are\", \"you re \",\n",
        "    \"we are\", \"we re \",\n",
        "    \"they are\", \"they re \"\n",
        ")\n",
        "\n",
        "def filterPair(p):\n",
        "    return len(p[0].split(' ')) < MAX_LENGTH and \\\n",
        "        len(p[1].split(' ')) < MAX_LENGTH and \\\n",
        "        p[1].startswith(eng_prefixes)\n",
        "\n",
        "\n",
        "def filterPairs(pairs):\n",
        "    return [pair for pair in pairs if filterPair(pair)]\n",
        "\n",
        "def prepareData(lang1, lang2, reverse=False,heb=True):\n",
        "    input_lang, output_lang, pairs = readLangs(lang1, lang2, reverse,heb)\n",
        "    print(\"Read %s sentence pairs\" % len(pairs))\n",
        "    pairs = filterPairs(pairs)\n",
        "    print(\"Trimmed to %s sentence pairs\" % len(pairs))\n",
        "    print(\"Counting words...\")\n",
        "    for pair in pairs:\n",
        "        input_lang.addSentence(pair[0])\n",
        "        output_lang.addSentence(pair[1])\n",
        "    print(\"Counted words:\")\n",
        "    print(input_lang.name, input_lang.n_words)\n",
        "    print(output_lang.name, output_lang.n_words)\n",
        "    return input_lang, output_lang, pairs\n",
        "\n",
        "input_lang, output_lang, pairs = prepareData('eng', 'heb', True,True)\n",
        "print(random.choice(pairs))\n"
      ]
    },
    {
      "cell_type": "markdown",
      "source": [
        "Defining the network architecture"
      ],
      "metadata": {
        "id": "kfHi7A9s4Vt0"
      }
    },
    {
      "cell_type": "code",
      "execution_count": 15,
      "metadata": {
        "id": "vnzpaSE6qNhp"
      },
      "outputs": [],
      "source": [
        "class EncoderRNN(nn.Module):\n",
        "    def __init__(self, input_size, hidden_size, dropout_p=0.1):\n",
        "        super(EncoderRNN, self).__init__()\n",
        "        self.hidden_size = hidden_size\n",
        "\n",
        "        self.embedding = nn.Embedding(input_size, hidden_size)\n",
        "        self.gru = nn.GRU(hidden_size, hidden_size, batch_first=True)\n",
        "        self.dropout = nn.Dropout(dropout_p)\n",
        "\n",
        "    def forward(self, input):\n",
        "        embedded = self.dropout(self.embedding(input))\n",
        "        output, hidden = self.gru(embedded)\n",
        "        return output, hidden\n",
        "\n",
        "class DecoderRNN(nn.Module):\n",
        "    \"\"\"\n",
        "    Simple Decoder without attention.\n",
        "    \"\"\"\n",
        "    def __init__(self, hidden_size, output_size):\n",
        "        super(DecoderRNN, self).__init__()\n",
        "        self.embedding = nn.Embedding(output_size, hidden_size)\n",
        "        self.gru = nn.GRU(hidden_size, hidden_size, batch_first=True)\n",
        "        self.out = nn.Linear(hidden_size, output_size)\n",
        "\n",
        "    def forward(self, encoder_outputs, encoder_hidden, target_tensor=None):\n",
        "        batch_size = encoder_outputs.size(0)\n",
        "        decoder_input = torch.empty(batch_size, 1, dtype=torch.long, device=device).fill_(SOS_token)\n",
        "        decoder_hidden = encoder_hidden\n",
        "        decoder_outputs = []\n",
        "\n",
        "        for i in range(MAX_LENGTH):\n",
        "            decoder_output, decoder_hidden  = self.forward_step(decoder_input, decoder_hidden)\n",
        "            decoder_outputs.append(decoder_output)\n",
        "\n",
        "            if target_tensor is not None:\n",
        "                # Teacher forcing: Feed the target as the next input\n",
        "                decoder_input = target_tensor[:, i].unsqueeze(1) # Teacher forcing\n",
        "            else:\n",
        "                # Without teacher forcing: use its own predictions as the next input\n",
        "                _, topi = decoder_output.topk(1)\n",
        "                decoder_input = topi.squeeze(-1).detach()  # detach from history as input\n",
        "\n",
        "        decoder_outputs = torch.cat(decoder_outputs, dim=1)\n",
        "        decoder_outputs = F.log_softmax(decoder_outputs, dim=-1)\n",
        "        return decoder_outputs, decoder_hidden, None # We return `None` for consistency in the training loop\n",
        "\n",
        "    def forward_step(self, input, hidden):\n",
        "        output = self.embedding(input)\n",
        "        output = F.relu(output)\n",
        "        output, hidden = self.gru(output, hidden)\n",
        "        output = self.out(output)\n",
        "        return output, hidden\n",
        "\n",
        "class BahdanauAttention(nn.Module):\n",
        "    def __init__(self, hidden_size):\n",
        "        super(BahdanauAttention, self).__init__()\n",
        "        self.Wa = nn.Linear(hidden_size, hidden_size)\n",
        "        self.Ua = nn.Linear(hidden_size, hidden_size)\n",
        "        self.Va = nn.Linear(hidden_size, 1)\n",
        "\n",
        "    def forward(self, query, keys):\n",
        "        scores = self.Va(torch.tanh(self.Wa(query) + self.Ua(keys)))\n",
        "        scores = scores.squeeze(2).unsqueeze(1)\n",
        "\n",
        "        weights = F.softmax(scores, dim=-1)\n",
        "        context = torch.bmm(weights, keys)\n",
        "\n",
        "        return context, weights\n",
        "\n",
        "class AttnDecoderRNN(nn.Module):\n",
        "    \"\"\"\n",
        "    Decoder with attention\n",
        "    \"\"\"\n",
        "    def __init__(self, hidden_size, output_size, dropout_p=0.1):\n",
        "        super(AttnDecoderRNN, self).__init__()\n",
        "        self.embedding = nn.Embedding(output_size, hidden_size)\n",
        "        self.attention = BahdanauAttention(hidden_size)\n",
        "        self.gru = nn.GRU(2 * hidden_size, hidden_size, batch_first=True)\n",
        "        self.out = nn.Linear(hidden_size, output_size)\n",
        "        self.dropout = nn.Dropout(dropout_p)\n",
        "\n",
        "    def forward(self, encoder_outputs, encoder_hidden, target_tensor=None):\n",
        "        batch_size = encoder_outputs.size(0)\n",
        "        decoder_input = torch.empty(batch_size, 1, dtype=torch.long, device=device).fill_(SOS_token)\n",
        "        decoder_hidden = encoder_hidden\n",
        "        decoder_outputs = []\n",
        "        attentions = []\n",
        "\n",
        "        for i in range(MAX_LENGTH):\n",
        "            decoder_output, decoder_hidden, attn_weights = self.forward_step(\n",
        "                decoder_input, decoder_hidden, encoder_outputs\n",
        "            )\n",
        "            decoder_outputs.append(decoder_output)\n",
        "            attentions.append(attn_weights)\n",
        "\n",
        "            if target_tensor is not None:\n",
        "                # Teacher forcing: Feed the target as the next input\n",
        "                decoder_input = target_tensor[:, i].unsqueeze(1) # Teacher forcing\n",
        "            else:\n",
        "                # Without teacher forcing: use its own predictions as the next input\n",
        "                _, topi = decoder_output.topk(1)\n",
        "                decoder_input = topi.squeeze(-1).detach()  # detach from history as input\n",
        "\n",
        "        decoder_outputs = torch.cat(decoder_outputs, dim=1)\n",
        "        decoder_outputs = F.log_softmax(decoder_outputs, dim=-1)\n",
        "        attentions = torch.cat(attentions, dim=1)\n",
        "\n",
        "        return decoder_outputs, decoder_hidden, attentions\n",
        "\n",
        "    def forward_step(self, input, hidden, encoder_outputs):\n",
        "        embedded =  self.dropout(self.embedding(input))\n",
        "\n",
        "        query = hidden.permute(1, 0, 2)\n",
        "        context, attn_weights = self.attention(query, encoder_outputs)\n",
        "        input_gru = torch.cat((embedded, context), dim=2)\n",
        "\n",
        "        output, hidden = self.gru(input_gru, hidden)\n",
        "        output = self.out(output)\n",
        "\n",
        "        return output, hidden, attn_weights"
      ]
    },
    {
      "cell_type": "code",
      "execution_count": 16,
      "metadata": {
        "id": "gSQwZfVqp9gn"
      },
      "outputs": [],
      "source": [
        "def indexesFromSentence(lang, sentence):\n",
        "    return [lang.word2index[word] for word in sentence.split(' ')]\n",
        "\n",
        "def tensorFromSentence(lang, sentence):\n",
        "    indexes = indexesFromSentence(lang, sentence)\n",
        "    indexes.append(EOS_token)\n",
        "    return torch.tensor(indexes, dtype=torch.long, device=device).view(1, -1)\n",
        "\n",
        "def tensorsFromPair(pair):\n",
        "    input_tensor = tensorFromSentence(input_lang, pair[0])\n",
        "    target_tensor = tensorFromSentence(output_lang, pair[1])\n",
        "    return (input_tensor, target_tensor)\n",
        "\n",
        "def get_dataloader(batch_size):\n",
        "    input_lang, output_lang, pairs = prepareData('heb', 'eng', True,True)\n",
        "\n",
        "    n = len(pairs)\n",
        "    input_ids = np.zeros((n, MAX_LENGTH), dtype=np.int32)\n",
        "    target_ids = np.zeros((n, MAX_LENGTH), dtype=np.int32)\n",
        "\n",
        "    for idx, (inp, tgt) in enumerate(pairs):\n",
        "        inp_ids = indexesFromSentence(input_lang, inp)\n",
        "        tgt_ids = indexesFromSentence(output_lang, tgt)\n",
        "        inp_ids.append(EOS_token)\n",
        "        tgt_ids.append(EOS_token)\n",
        "        input_ids[idx, :len(inp_ids)] = inp_ids\n",
        "        target_ids[idx, :len(tgt_ids)] = tgt_ids\n",
        "\n",
        "    train_data = TensorDataset(torch.LongTensor(input_ids).to(device),\n",
        "                               torch.LongTensor(target_ids).to(device))\n",
        "\n",
        "    train_sampler = RandomSampler(train_data)\n",
        "    train_dataloader = DataLoader(train_data, sampler=train_sampler, batch_size=batch_size)\n",
        "    return input_lang, output_lang, train_dataloader"
      ]
    },
    {
      "cell_type": "markdown",
      "source": [
        "Training and evaluating functions"
      ],
      "metadata": {
        "id": "xWc5ymag4PO1"
      }
    },
    {
      "cell_type": "code",
      "execution_count": 17,
      "metadata": {
        "id": "J1BMOoSAr4LN"
      },
      "outputs": [],
      "source": [
        "def train_epoch(dataloader, encoder, decoder, encoder_optimizer,\n",
        "          decoder_optimizer, criterion):\n",
        "\n",
        "    total_loss = 0\n",
        "    for data in dataloader:\n",
        "        input_tensor, target_tensor = data\n",
        "\n",
        "        encoder_optimizer.zero_grad()\n",
        "        decoder_optimizer.zero_grad()\n",
        "\n",
        "        encoder_outputs, encoder_hidden = encoder(input_tensor)\n",
        "        decoder_outputs, _, _ = decoder(encoder_outputs, encoder_hidden, target_tensor)\n",
        "\n",
        "        loss = criterion(\n",
        "            decoder_outputs.view(-1, decoder_outputs.size(-1)),\n",
        "            target_tensor.view(-1)\n",
        "        )\n",
        "        loss.backward()\n",
        "        encoder_optimizer.step()\n",
        "        decoder_optimizer.step()\n",
        "\n",
        "        total_loss += loss.item()\n",
        "\n",
        "    return total_loss / len(dataloader)\n",
        "\n",
        "def asMinutes(s):\n",
        "    m = math.floor(s / 60)\n",
        "    s -= m * 60\n",
        "    return '%dm %ds' % (m, s)\n",
        "\n",
        "def timeSince(since, percent):\n",
        "    now = time.time()\n",
        "    s = now - since\n",
        "    es = s / (percent)\n",
        "    rs = es - s\n",
        "    return '%s (- %s)' % (asMinutes(s), asMinutes(rs))\n",
        "\n",
        "def train(train_dataloader, encoder, decoder, n_epochs, learning_rate=0.001,\n",
        "               print_every=100, plot_every=100):\n",
        "    start = time.time()\n",
        "    plot_losses = []\n",
        "    print_loss_total = 0  # Reset every print_every\n",
        "    plot_loss_total = 0  # Reset every plot_every\n",
        "\n",
        "    encoder_optimizer = optim.Adam(encoder.parameters(), lr=learning_rate)\n",
        "    decoder_optimizer = optim.Adam(decoder.parameters(), lr=learning_rate)\n",
        "    criterion = nn.NLLLoss()\n",
        "\n",
        "    for epoch in range(1, n_epochs + 1):\n",
        "        print(f\"------------epoch: {epoch}\")\n",
        "        loss = train_epoch(train_dataloader, encoder, decoder, encoder_optimizer, decoder_optimizer, criterion)\n",
        "        print_loss_total += loss\n",
        "        plot_loss_total += loss\n",
        "\n",
        "        if epoch % print_every == 0:\n",
        "            print_loss_avg = print_loss_total / print_every\n",
        "            print_loss_total = 0\n",
        "            print('%s (%d %d%%) %.4f' % (timeSince(start, epoch / n_epochs),\n",
        "                                        epoch, epoch / n_epochs * 100, print_loss_avg))\n",
        "        if epoch % plot_every == 0:\n",
        "            plot_loss_avg = plot_loss_total / plot_every\n",
        "            plot_losses.append(plot_loss_avg)\n",
        "            plot_loss_total = 0\n",
        "\n",
        "    showPlot(plot_losses)\n",
        "\n",
        "\n",
        "def showPlot(points):\n",
        "    plt.figure()\n",
        "    fig, ax = plt.subplots()\n",
        "    # this locator puts ticks at regular intervals\n",
        "    loc = ticker.MultipleLocator(base=0.2)\n",
        "    ax.yaxis.set_major_locator(loc)\n",
        "    plt.plot(points)\n",
        "    plt.show()\n",
        "\n",
        "def evaluate(encoder, decoder, sentence, input_lang, output_lang):\n",
        "    with torch.no_grad():\n",
        "        input_tensor = tensorFromSentence(input_lang, sentence)\n",
        "\n",
        "        encoder_outputs, encoder_hidden = encoder(input_tensor)\n",
        "        decoder_outputs, decoder_hidden, decoder_attn = decoder(encoder_outputs, encoder_hidden)\n",
        "\n",
        "        _, topi = decoder_outputs.topk(1)\n",
        "        decoded_ids = topi.squeeze()\n",
        "\n",
        "        decoded_words = []\n",
        "        for idx in decoded_ids:\n",
        "            if idx.item() == EOS_token:\n",
        "                decoded_words.append('<EOS>')\n",
        "                break\n",
        "            decoded_words.append(output_lang.index2word[idx.item()])\n",
        "    return decoded_words, decoder_attn\n",
        "\n",
        "def evaluateRandomly(encoder, decoder, n=10):\n",
        "    for i in range(n):\n",
        "        pair = random.choice(pairs)\n",
        "        print('>', pair[0])\n",
        "        print('=', pair[1])\n",
        "        output_words, _ = evaluate(encoder, decoder, pair[0], input_lang, output_lang)\n",
        "        output_sentence = ' '.join(output_words)\n",
        "        print('<', output_sentence)\n",
        "        print('')"
      ]
    },
    {
      "cell_type": "markdown",
      "metadata": {
        "id": "wtHAfeGUwkCk"
      },
      "source": [
        "## Training and evaluating a model without Attention\n",
        "just for the sport, lets check hows the model perform without an attention mechanism."
      ]
    },
    {
      "cell_type": "code",
      "execution_count": 18,
      "metadata": {
        "id": "73lmeaM1sZkJ",
        "colab": {
          "base_uri": "https://localhost:8080/",
          "height": 1000
        },
        "outputId": "1d492731-5235-4ba3-ff85-1b318fefaf3d"
      },
      "outputs": [
        {
          "output_type": "stream",
          "name": "stdout",
          "text": [
            "Reading lines...\n",
            "[['go', 'לך !'], ['hi', 'היי'], ['hi', 'אהלן'], ['run !', 'רוץ !'], ['run !', 'רוצי !'], ['run !', 'רוצו !'], ['who ?', 'מי ?'], ['wow !', 'וואו !'], ['wow !', 'ואו !'], ['duck !', 'תתכופפי !']]\n",
            "Read 128133 sentence pairs\n",
            "Trimmed to 9320 sentence pairs\n",
            "Counting words...\n",
            "Counted words:\n",
            "eng 6206\n",
            "heb 3067\n",
            "------------epoch: 1\n",
            "------------epoch: 2\n",
            "------------epoch: 3\n",
            "------------epoch: 4\n",
            "------------epoch: 5\n",
            "0m 18s (- 4m 31s) (5 6%) 1.8974\n",
            "------------epoch: 6\n",
            "------------epoch: 7\n",
            "------------epoch: 8\n",
            "------------epoch: 9\n",
            "------------epoch: 10\n",
            "0m 36s (- 4m 15s) (10 12%) 1.1320\n",
            "------------epoch: 11\n",
            "------------epoch: 12\n",
            "------------epoch: 13\n",
            "------------epoch: 14\n",
            "------------epoch: 15\n",
            "0m 54s (- 3m 55s) (15 18%) 0.8059\n",
            "------------epoch: 16\n",
            "------------epoch: 17\n",
            "------------epoch: 18\n",
            "------------epoch: 19\n",
            "------------epoch: 20\n",
            "1m 12s (- 3m 38s) (20 25%) 0.5968\n",
            "------------epoch: 21\n",
            "------------epoch: 22\n",
            "------------epoch: 23\n",
            "------------epoch: 24\n",
            "------------epoch: 25\n",
            "1m 30s (- 3m 19s) (25 31%) 0.4499\n",
            "------------epoch: 26\n",
            "------------epoch: 27\n",
            "------------epoch: 28\n",
            "------------epoch: 29\n",
            "------------epoch: 30\n",
            "1m 49s (- 3m 2s) (30 37%) 0.3426\n",
            "------------epoch: 31\n",
            "------------epoch: 32\n",
            "------------epoch: 33\n",
            "------------epoch: 34\n",
            "------------epoch: 35\n",
            "2m 7s (- 2m 43s) (35 43%) 0.2626\n",
            "------------epoch: 36\n",
            "------------epoch: 37\n",
            "------------epoch: 38\n",
            "------------epoch: 39\n",
            "------------epoch: 40\n",
            "2m 25s (- 2m 25s) (40 50%) 0.2026\n",
            "------------epoch: 41\n",
            "------------epoch: 42\n",
            "------------epoch: 43\n",
            "------------epoch: 44\n",
            "------------epoch: 45\n",
            "2m 43s (- 2m 7s) (45 56%) 0.1582\n",
            "------------epoch: 46\n",
            "------------epoch: 47\n",
            "------------epoch: 48\n",
            "------------epoch: 49\n",
            "------------epoch: 50\n",
            "3m 2s (- 1m 49s) (50 62%) 0.1250\n",
            "------------epoch: 51\n",
            "------------epoch: 52\n",
            "------------epoch: 53\n",
            "------------epoch: 54\n",
            "------------epoch: 55\n",
            "3m 20s (- 1m 31s) (55 68%) 0.1010\n",
            "------------epoch: 56\n",
            "------------epoch: 57\n",
            "------------epoch: 58\n",
            "------------epoch: 59\n",
            "------------epoch: 60\n",
            "3m 38s (- 1m 12s) (60 75%) 0.0828\n",
            "------------epoch: 61\n",
            "------------epoch: 62\n",
            "------------epoch: 63\n",
            "------------epoch: 64\n",
            "------------epoch: 65\n",
            "3m 57s (- 0m 54s) (65 81%) 0.0707\n",
            "------------epoch: 66\n",
            "------------epoch: 67\n",
            "------------epoch: 68\n",
            "------------epoch: 69\n",
            "------------epoch: 70\n",
            "4m 15s (- 0m 36s) (70 87%) 0.0609\n",
            "------------epoch: 71\n",
            "------------epoch: 72\n",
            "------------epoch: 73\n",
            "------------epoch: 74\n",
            "------------epoch: 75\n",
            "4m 33s (- 0m 18s) (75 93%) 0.0531\n",
            "------------epoch: 76\n",
            "------------epoch: 77\n",
            "------------epoch: 78\n",
            "------------epoch: 79\n",
            "------------epoch: 80\n",
            "4m 51s (- 0m 0s) (80 100%) 0.0477\n"
          ]
        },
        {
          "output_type": "display_data",
          "data": {
            "text/plain": [
              "<Figure size 640x480 with 0 Axes>"
            ]
          },
          "metadata": {}
        },
        {
          "output_type": "display_data",
          "data": {
            "text/plain": [
              "<Figure size 640x480 with 1 Axes>"
            ],
            "image/png": "[encoded data removed]"
          },
          "metadata": {}
        }
      ],
      "source": [
        "hidden_size = 128\n",
        "batch_size = 32\n",
        "\n",
        "input_lang, output_lang, train_dataloader = get_dataloader(batch_size)\n",
        "\n",
        "encoder = EncoderRNN(input_lang.n_words, hidden_size).to(device)\n",
        "decoder = DecoderRNN(hidden_size, output_lang.n_words).to(device)\n",
        "\n",
        "train(train_dataloader, encoder, decoder, 80, print_every=5, plot_every=40)"
      ]
    },
    {
      "cell_type": "code",
      "execution_count": 19,
      "metadata": {
        "id": "XNnqcPNwtfe3",
        "colab": {
          "base_uri": "https://localhost:8080/"
        },
        "outputId": "c2dd0b3a-22a7-4339-a8e1-168d36c2c466"
      },
      "outputs": [
        {
          "output_type": "stream",
          "name": "stdout",
          "text": [
            "> הם מגיעים לכאן בקרוב מהונג קונג\n",
            "= they are arriving here soon from hong kong\n",
            "< they are arriving here soon from hong kong <EOS>\n",
            "\n",
            "> הם כולם מתעצבנים בקלות\n",
            "= they re all irritable\n",
            "< they re more popular than we <EOS>\n",
            "\n",
            "> אני קטן מדי\n",
            "= i am too short\n",
            "< i am too tired today <EOS>\n",
            "\n",
            "> אני כל כך שמחה שהם כאן\n",
            "= i m so glad they re here\n",
            "< i m sure with that means <EOS>\n",
            "\n",
            "> אני לא משוחדת\n",
            "= i m unprejudiced\n",
            "< i m not having lunch with you <EOS>\n",
            "\n",
            "> את גסת רוח\n",
            "= you re disrespectful\n",
            "< you re disrespectful <EOS>\n",
            "\n",
            "> אני שמח שאתה מרגיש כך\n",
            "= i m glad you feel that way\n",
            "< i m glad you feel that way <EOS>\n",
            "\n",
            "> אני הרוסה\n",
            "= i m devastated\n",
            "< i m having my family right now <EOS>\n",
            "\n",
            "> הם צופים\n",
            "= they re watching\n",
            "< they are at lunch with my problems <EOS>\n",
            "\n",
            "> אנחנו כל כך גאים בך !\n",
            "= we re so proud of you !\n",
            "< we re so proud of you ? <EOS>\n",
            "\n"
          ]
        }
      ],
      "source": [
        "encoder.eval()\n",
        "decoder.eval()\n",
        "evaluateRandomly(encoder, decoder)"
      ]
    },
    {
      "cell_type": "markdown",
      "metadata": {
        "id": "6PHGdmXWyLvM"
      },
      "source": [
        "As we can see, the model without attention performs quite bad. The only notable strength is that it correctly matches the sentence structure, such as pronouns ('me,' 'you,' 'we,' etc.), to their appropriate translations most of the time. However, its ability to capture the full meaning and nuances of the sentences is poor."
      ]
    },
    {
      "cell_type": "markdown",
      "metadata": {
        "id": "dgw-gwQ-ws_E"
      },
      "source": [
        "## 2.a) Training and evaluating a model with attention"
      ]
    },
    {
      "cell_type": "code",
      "execution_count": 20,
      "metadata": {
        "id": "x8r35b_yw2Ew",
        "colab": {
          "base_uri": "https://localhost:8080/",
          "height": 1000
        },
        "outputId": "f64fad16-dc01-4e36-891b-fcd18cd1e19c"
      },
      "outputs": [
        {
          "output_type": "stream",
          "name": "stdout",
          "text": [
            "Reading lines...\n",
            "[['go', 'לך !'], ['hi', 'היי'], ['hi', 'אהלן'], ['run !', 'רוץ !'], ['run !', 'רוצי !'], ['run !', 'רוצו !'], ['who ?', 'מי ?'], ['wow !', 'וואו !'], ['wow !', 'ואו !'], ['duck !', 'תתכופפי !']]\n",
            "Read 128133 sentence pairs\n",
            "Trimmed to 9320 sentence pairs\n",
            "Counting words...\n",
            "Counted words:\n",
            "eng 6206\n",
            "heb 3067\n",
            "------------epoch: 1\n",
            "------------epoch: 2\n",
            "------------epoch: 3\n",
            "------------epoch: 4\n",
            "------------epoch: 5\n",
            "0m 32s (- 8m 5s) (5 6%) 1.8078\n",
            "------------epoch: 6\n",
            "------------epoch: 7\n",
            "------------epoch: 8\n",
            "------------epoch: 9\n",
            "------------epoch: 10\n",
            "1m 4s (- 7m 33s) (10 12%) 0.9565\n",
            "------------epoch: 11\n",
            "------------epoch: 12\n",
            "------------epoch: 13\n",
            "------------epoch: 14\n",
            "------------epoch: 15\n",
            "1m 36s (- 6m 59s) (15 18%) 0.5654\n",
            "------------epoch: 16\n",
            "------------epoch: 17\n",
            "------------epoch: 18\n",
            "------------epoch: 19\n",
            "------------epoch: 20\n",
            "2m 8s (- 6m 26s) (20 25%) 0.3359\n",
            "------------epoch: 21\n",
            "------------epoch: 22\n",
            "------------epoch: 23\n",
            "------------epoch: 24\n",
            "------------epoch: 25\n",
            "2m 41s (- 5m 54s) (25 31%) 0.1995\n",
            "------------epoch: 26\n",
            "------------epoch: 27\n",
            "------------epoch: 28\n",
            "------------epoch: 29\n",
            "------------epoch: 30\n",
            "3m 26s (- 5m 44s) (30 37%) 0.1251\n",
            "------------epoch: 31\n",
            "------------epoch: 32\n",
            "------------epoch: 33\n",
            "------------epoch: 34\n",
            "------------epoch: 35\n",
            "4m 3s (- 5m 13s) (35 43%) 0.0847\n",
            "------------epoch: 36\n",
            "------------epoch: 37\n",
            "------------epoch: 38\n",
            "------------epoch: 39\n",
            "------------epoch: 40\n",
            "4m 39s (- 4m 39s) (40 50%) 0.0642\n",
            "------------epoch: 41\n",
            "------------epoch: 42\n",
            "------------epoch: 43\n",
            "------------epoch: 44\n",
            "------------epoch: 45\n",
            "5m 16s (- 4m 5s) (45 56%) 0.0508\n",
            "------------epoch: 46\n",
            "------------epoch: 47\n",
            "------------epoch: 48\n",
            "------------epoch: 49\n",
            "------------epoch: 50\n",
            "5m 54s (- 3m 32s) (50 62%) 0.0429\n",
            "------------epoch: 51\n",
            "------------epoch: 52\n",
            "------------epoch: 53\n",
            "------------epoch: 54\n",
            "------------epoch: 55\n",
            "6m 28s (- 2m 56s) (55 68%) 0.0386\n",
            "------------epoch: 56\n",
            "------------epoch: 57\n",
            "------------epoch: 58\n",
            "------------epoch: 59\n",
            "------------epoch: 60\n",
            "7m 6s (- 2m 22s) (60 75%) 0.0353\n",
            "------------epoch: 61\n",
            "------------epoch: 62\n",
            "------------epoch: 63\n",
            "------------epoch: 64\n",
            "------------epoch: 65\n",
            "7m 40s (- 1m 46s) (65 81%) 0.0319\n",
            "------------epoch: 66\n",
            "------------epoch: 67\n",
            "------------epoch: 68\n",
            "------------epoch: 69\n",
            "------------epoch: 70\n",
            "8m 12s (- 1m 10s) (70 87%) 0.0308\n",
            "------------epoch: 71\n",
            "------------epoch: 72\n",
            "------------epoch: 73\n",
            "------------epoch: 74\n",
            "------------epoch: 75\n",
            "8m 45s (- 0m 35s) (75 93%) 0.0276\n",
            "------------epoch: 76\n",
            "------------epoch: 77\n",
            "------------epoch: 78\n",
            "------------epoch: 79\n",
            "------------epoch: 80\n",
            "9m 17s (- 0m 0s) (80 100%) 0.0268\n"
          ]
        },
        {
          "output_type": "display_data",
          "data": {
            "text/plain": [
              "<Figure size 640x480 with 0 Axes>"
            ]
          },
          "metadata": {}
        },
        {
          "output_type": "display_data",
          "data": {
            "text/plain": [
              "<Figure size 640x480 with 1 Axes>"
            ],
            "image/png": "[encoded data removed]"
          },
          "metadata": {}
        }
      ],
      "source": [
        "hidden_size = 128\n",
        "batch_size = 32\n",
        "\n",
        "input_lang, output_lang, train_dataloader = get_dataloader(batch_size)\n",
        "\n",
        "encoder = EncoderRNN(input_lang.n_words, hidden_size).to(device)\n",
        "decoder = AttnDecoderRNN(hidden_size, output_lang.n_words).to(device)\n",
        "\n",
        "train(train_dataloader, encoder, decoder, 80, print_every=5, plot_every=40)\n"
      ]
    },
    {
      "cell_type": "markdown",
      "metadata": {
        "id": "mhqqe7B2w2rs"
      },
      "source": [
        "## 2.b) Evaluate the trained model on 20 random sentences.\n"
      ]
    },
    {
      "cell_type": "code",
      "execution_count": 21,
      "metadata": {
        "collapsed": true,
        "id": "gqYTea0ExLaa",
        "colab": {
          "base_uri": "https://localhost:8080/"
        },
        "outputId": "4fa90084-92c8-4685-ebed-c1c91423331b"
      },
      "outputs": [
        {
          "output_type": "stream",
          "name": "stdout",
          "text": [
            "> אנו מתקרבות\n",
            "= we re getting closer\n",
            "< we re getting closer <EOS>\n",
            "\n",
            "> הוא סועד עכשיו את ארוחת הצהריים\n",
            "= he is having lunch now\n",
            "< he is having lunch now <EOS>\n",
            "\n",
            "> היא עסוקה כמו טום\n",
            "= she s as busy as tom\n",
            "< she s busy like tom <EOS>\n",
            "\n",
            "> אני לא סקרן\n",
            "= i am not curious\n",
            "< i am not curious <EOS>\n",
            "\n",
            "> אני פשוט קצת עצבנית\n",
            "= i m just a little nervous\n",
            "< i m a little nervous <EOS>\n",
            "\n",
            "> הוא רע למדי בטניס\n",
            "= he s pretty bad at tennis\n",
            "< he s pretty bad at tennis <EOS>\n",
            "\n",
            "> אני לא נלחם אתך\n",
            "= i m not fighting with you\n",
            "< i m not fighting with you <EOS>\n",
            "\n",
            "> אני עובד על זה\n",
            "= i m working on that\n",
            "< i m working on that <EOS>\n",
            "\n",
            "> אני עדיין כועס עליה\n",
            "= i m still mad at her\n",
            "< i m still mad at her <EOS>\n",
            "\n",
            "> אינני בטוחה מה משמעות הדבר הזה\n",
            "= i m not sure what this means\n",
            "< i m not sure what this means what this means\n",
            "\n",
            "> אתה שקרן טוב יותר משחשבתי\n",
            "= you re a better liar than i thought\n",
            "< you re just a nice people <EOS>\n",
            "\n",
            "> אינני משאיר אותך לבד\n",
            "= i m not leaving you alone\n",
            "< you re not leaving you alone <EOS>\n",
            "\n",
            "> הם כולם שמחים מאוד\n",
            "= they are all very happy\n",
            "< they are all very happy <EOS>\n",
            "\n",
            "> אני מכיר את הנושא\n",
            "= i m familiar with the subject\n",
            "< i m familiar <EOS>\n",
            "\n",
            "> אני בטוח שתסתדרו\n",
            "= i m sure you ll be fine\n",
            "< i m sure you meant that <EOS>\n",
            "\n",
            "> אנו בחופש\n",
            "= we re on leave\n",
            "< we re on vacation <EOS>\n",
            "\n",
            "> אני מחכה שתום יתחיל\n",
            "= i m waiting for tom to start\n",
            "< i m waiting for tom to start <EOS>\n",
            "\n",
            "> אתה אתלטי\n",
            "= you re athletic\n",
            "< you re athletic <EOS>\n",
            "\n",
            "> את מתרשמת לא ?\n",
            "= you re impressed aren t you ?\n",
            "< you aren t catch ? <EOS>\n",
            "\n",
            "> הוא כל דבר חוץ מישר\n",
            "= he is anything but honest\n",
            "< he is anything but honest <EOS>\n",
            "\n"
          ]
        }
      ],
      "source": [
        "# Evaluation\n",
        "encoder.eval()\n",
        "decoder.eval()\n",
        "evaluateRandomly(encoder, decoder, n=20)"
      ]
    },
    {
      "cell_type": "markdown",
      "source": [
        "There are very few sentences that have lost their meaning during the translation process.    \n",
        "> אני בטוח שתסתדרו  \n",
        "= i m sure you ll be fine  \n",
        "< i m sure you meant that <EOS>  \n",
        "\n",
        "But most of the sentences have translated perfectly."
      ],
      "metadata": {
        "id": "w1YawYtcry7o"
      }
    },
    {
      "cell_type": "markdown",
      "metadata": {
        "id": "CowkeQUIxLEE"
      },
      "source": [
        "## 2.c) Showing the attention plot for 5 random sentences."
      ]
    },
    {
      "cell_type": "code",
      "execution_count": 22,
      "metadata": {
        "id": "91xsanb8xWeF",
        "colab": {
          "base_uri": "https://localhost:8080/",
          "height": 1000
        },
        "outputId": "8df87a99-8571-42fe-8fd6-6e22b4f615fd"
      },
      "outputs": [
        {
          "output_type": "stream",
          "name": "stdout",
          "text": [
            "sentence: אני רגיל להיות ער עד שעה מאוחרת\n",
            "input = אני רגיל להיות ער עד שעה מאוחרת\n",
            "output = i m used to staying up late <EOS>\n"
          ]
        },
        {
          "output_type": "stream",
          "name": "stderr",
          "text": [
            "<ipython-input-22-9d22c9ebda82>:15: UserWarning: set_ticklabels() should only be used with a fixed number of ticks, i.e. after set_ticks() or using a FixedLocator.\n",
            "  ax.set_xticklabels([''] + fixed_words +\n",
            "<ipython-input-22-9d22c9ebda82>:17: UserWarning: set_ticklabels() should only be used with a fixed number of ticks, i.e. after set_ticks() or using a FixedLocator.\n",
            "  ax.set_yticklabels([''] + output_words)\n"
          ]
        },
        {
          "output_type": "display_data",
          "data": {
            "text/plain": [
              "<Figure size 640x480 with 2 Axes>"
            ],
            "image/png": "[encoded data removed]"
          },
          "metadata": {}
        },
        {
          "output_type": "stream",
          "name": "stderr",
          "text": [
            "<ipython-input-22-9d22c9ebda82>:15: UserWarning: set_ticklabels() should only be used with a fixed number of ticks, i.e. after set_ticks() or using a FixedLocator.\n",
            "  ax.set_xticklabels([''] + fixed_words +\n"
          ]
        },
        {
          "output_type": "stream",
          "name": "stdout",
          "text": [
            "sentence: את כל כך פרנואיד !\n",
            "input = את כל כך פרנואיד !\n",
            "output = you re so paranoid <EOS>\n"
          ]
        },
        {
          "output_type": "stream",
          "name": "stderr",
          "text": [
            "<ipython-input-22-9d22c9ebda82>:17: UserWarning: set_ticklabels() should only be used with a fixed number of ticks, i.e. after set_ticks() or using a FixedLocator.\n",
            "  ax.set_yticklabels([''] + output_words)\n"
          ]
        },
        {
          "output_type": "display_data",
          "data": {
            "text/plain": [
              "<Figure size 640x480 with 2 Axes>"
            ],
            "image/png": "[encoded data removed]"
          },
          "metadata": {}
        },
        {
          "output_type": "stream",
          "name": "stdout",
          "text": [
            "sentence: אני לא הולך לוותר\n",
            "input = אני לא הולך לוותר\n",
            "output = i m not going to give up <EOS>\n"
          ]
        },
        {
          "output_type": "stream",
          "name": "stderr",
          "text": [
            "<ipython-input-22-9d22c9ebda82>:15: UserWarning: set_ticklabels() should only be used with a fixed number of ticks, i.e. after set_ticks() or using a FixedLocator.\n",
            "  ax.set_xticklabels([''] + fixed_words +\n",
            "<ipython-input-22-9d22c9ebda82>:17: UserWarning: set_ticklabels() should only be used with a fixed number of ticks, i.e. after set_ticks() or using a FixedLocator.\n",
            "  ax.set_yticklabels([''] + output_words)\n"
          ]
        },
        {
          "output_type": "display_data",
          "data": {
            "text/plain": [
              "<Figure size 640x480 with 2 Axes>"
            ],
            "image/png": "[encoded data removed]"
          },
          "metadata": {}
        },
        {
          "output_type": "stream",
          "name": "stdout",
          "text": [
            "sentence: אנו מנסים לאתר את תום\n",
            "input = אנו מנסים לאתר את תום\n",
            "output = we re trying to track tom down <EOS>\n"
          ]
        },
        {
          "output_type": "stream",
          "name": "stderr",
          "text": [
            "<ipython-input-22-9d22c9ebda82>:15: UserWarning: set_ticklabels() should only be used with a fixed number of ticks, i.e. after set_ticks() or using a FixedLocator.\n",
            "  ax.set_xticklabels([''] + fixed_words +\n",
            "<ipython-input-22-9d22c9ebda82>:17: UserWarning: set_ticklabels() should only be used with a fixed number of ticks, i.e. after set_ticks() or using a FixedLocator.\n",
            "  ax.set_yticklabels([''] + output_words)\n"
          ]
        },
        {
          "output_type": "display_data",
          "data": {
            "text/plain": [
              "<Figure size 640x480 with 2 Axes>"
            ],
            "image/png": "[encoded data removed]"
          },
          "metadata": {}
        },
        {
          "output_type": "stream",
          "name": "stdout",
          "text": [
            "sentence: אני מחכה לאוטובוס\n",
            "input = אני מחכה לאוטובוס\n",
            "output = i m waiting for the bus <EOS>\n"
          ]
        },
        {
          "output_type": "stream",
          "name": "stderr",
          "text": [
            "<ipython-input-22-9d22c9ebda82>:15: UserWarning: set_ticklabels() should only be used with a fixed number of ticks, i.e. after set_ticks() or using a FixedLocator.\n",
            "  ax.set_xticklabels([''] + fixed_words +\n",
            "<ipython-input-22-9d22c9ebda82>:17: UserWarning: set_ticklabels() should only be used with a fixed number of ticks, i.e. after set_ticks() or using a FixedLocator.\n",
            "  ax.set_yticklabels([''] + output_words)\n"
          ]
        },
        {
          "output_type": "display_data",
          "data": {
            "text/plain": [
              "<Figure size 640x480 with 2 Axes>"
            ],
            "image/png": "[encoded data removed]"
          },
          "metadata": {}
        }
      ],
      "source": [
        "import matplotlib.pyplot as plt\n",
        "# plt.switch_backend('TkAgg')\n",
        "import matplotlib.ticker as ticker\n",
        "def showAttention(input_sentence, output_words, attentions):\n",
        "    plt.close('all')\n",
        "    fig = plt.figure()\n",
        "    ax = fig.add_subplot(111)\n",
        "    cax = ax.matshow(attentions.cpu().numpy(), cmap='bone')\n",
        "    fig.colorbar(cax)\n",
        "\n",
        "    # Set up axes\n",
        "    #fixing hebrew words\n",
        "    words = input_sentence.split(' ')      # [\"היא\", \"מורה\"]\n",
        "    fixed_words = [w[::-1] for w in words]\n",
        "    ax.set_xticklabels([''] + fixed_words +\n",
        "                       ['<EOS>'], rotation=90)\n",
        "    ax.set_yticklabels([''] + output_words)\n",
        "\n",
        "    # Show label at every tick\n",
        "    ax.xaxis.set_major_locator(ticker.MultipleLocator(1))\n",
        "    ax.yaxis.set_major_locator(ticker.MultipleLocator(1))\n",
        "\n",
        "    plt.show()\n",
        "    plt.close(fig)\n",
        "\n",
        "\n",
        "def evaluateAndShowAttention(input_sentence):\n",
        "    output_words, attentions = evaluate(encoder, decoder, input_sentence, input_lang, output_lang)\n",
        "    print('input =', input_sentence)\n",
        "    print('output =', ' '.join(output_words))\n",
        "    showAttention(input_sentence, output_words, attentions[0, :len(output_words), :])\n",
        "\n",
        "\n",
        "for i in range(5):\n",
        "    pair = random.choice(pairs)\n",
        "    print(\"sentence:\", pair[0])\n",
        "    evaluateAndShowAttention(pair[0])"
      ]
    },
    {
      "cell_type": "markdown",
      "metadata": {
        "id": "_MyunlST0PUA"
      },
      "source": [
        "## 3)  \n",
        "Do you think this model performs well? Why or why not? What are its limitations/disadvantages? What would you do to improve it?  \n",
        "\n",
        "answer:\n",
        "I think the model performed better compared to the one without attention. However, as we observed, there are still some sentences that lost their meaning or were slightly altered.\n",
        "\n",
        "Overall, the model performed well, even capturing complex sentences like:  \n",
        "> הוא כל דבר חוץ מישר  \n",
        "= he is anything but honest  \n",
        "< he is anything but honest <EOS>  \n",
        "\n",
        "To further improve the model, we could use a bidirectional LSTM, allowing the model to leverage context from both directions. Alternatively, we could go even further by using Transformers or other advanced architectures, which have proven highly effective for sequence-to-sequence tasks.\n",
        "And of course, using more simple methods like Increase Dataset Size, tunining hyperparameters like hidden states can improve the model performens.\n"
      ]
    },
    {
      "cell_type": "markdown",
      "metadata": {
        "id": "Hr4vZ6bbuGeO"
      },
      "source": [
        "## 2.4)\n",
        "I have changed the GRU (Gated Recurrent Unit) to bidirectional LSTM, the complexity of the model is higher, but it might achieve better results."
      ]
    },
    {
      "cell_type": "code",
      "execution_count": 23,
      "metadata": {
        "id": "s0XrWDgXuK1Y"
      },
      "outputs": [],
      "source": [
        "class LSTMAttnDecoderRNN(nn.Module):\n",
        "    def __init__(self, hidden_size, output_size, dropout_p=0.1):\n",
        "        super(LSTMAttnDecoderRNN, self).__init__()\n",
        "        self.embedding = nn.Embedding(output_size, hidden_size)\n",
        "        self.attention = BahdanauAttention(hidden_size)\n",
        "        self.lstm = nn.LSTM(2*hidden_size, hidden_size, batch_first=True, bidirectional=False)\n",
        "        self.out = nn.Linear(hidden_size, output_size)\n",
        "        self.dropout = nn.Dropout(dropout_p)\n",
        "\n",
        "    def forward(self, encoder_outputs, encoder_hidden, target_tensor=None):\n",
        "      batch_size = encoder_outputs.size(0)\n",
        "      decoder_input = torch.empty(batch_size, 1, dtype=torch.long, device=device).fill_(SOS_token)\n",
        "\n",
        "      # LSTMs require (hidden_state, cell_state)\n",
        "      decoder_hidden = (encoder_hidden, torch.zeros_like(encoder_hidden))  # Initialize cell state\n",
        "\n",
        "      decoder_outputs = []\n",
        "      attentions = []\n",
        "\n",
        "      for i in range(MAX_LENGTH):\n",
        "          decoder_output, decoder_hidden, attn_weights = self.forward_step(\n",
        "              decoder_input, decoder_hidden, encoder_outputs\n",
        "          )\n",
        "          decoder_outputs.append(decoder_output)\n",
        "          attentions.append(attn_weights)\n",
        "\n",
        "          if target_tensor is not None:\n",
        "              decoder_input = target_tensor[:, i].unsqueeze(1)  # Teacher forcing\n",
        "          else:\n",
        "              _, topi = decoder_output.topk(1)\n",
        "              decoder_input = topi.squeeze(-1).detach()  # Detach from history\n",
        "\n",
        "      decoder_outputs = torch.cat(decoder_outputs, dim=1)\n",
        "      decoder_outputs = F.log_softmax(decoder_outputs, dim=-1)\n",
        "      attentions = torch.cat(attentions, dim=1)\n",
        "\n",
        "      return decoder_outputs, decoder_hidden, attentions\n",
        "\n",
        "\n",
        "    def forward_step(self, input, hidden, encoder_outputs):\n",
        "        embedded = self.dropout(self.embedding(input))\n",
        "\n",
        "        # LSTM hidden state comes as (h_t, c_t) → only use h_t for attention\n",
        "        hidden_state = hidden[0]  # Take only h_t\n",
        "\n",
        "        query = hidden_state.permute(1, 0, 2)  # Ensure correct shape\n",
        "        context, attn_weights = self.attention(query, encoder_outputs)\n",
        "\n",
        "        input_lstm = torch.cat((embedded, context), dim=2)\n",
        "\n",
        "        output, hidden = self.lstm(input_lstm, hidden)  # Correctly pass hidden state\n",
        "        output = self.out(output)\n",
        "\n",
        "        return output, hidden, attn_weights"
      ]
    },
    {
      "cell_type": "code",
      "execution_count": 24,
      "metadata": {
        "id": "t2TiM0nivaM5",
        "colab": {
          "base_uri": "https://localhost:8080/",
          "height": 1000
        },
        "outputId": "f620d3b0-d077-44d1-c18e-bfb8a597d3f5"
      },
      "outputs": [
        {
          "output_type": "stream",
          "name": "stdout",
          "text": [
            "Reading lines...\n",
            "[['go', 'לך !'], ['hi', 'היי'], ['hi', 'אהלן'], ['run !', 'רוץ !'], ['run !', 'רוצי !'], ['run !', 'רוצו !'], ['who ?', 'מי ?'], ['wow !', 'וואו !'], ['wow !', 'ואו !'], ['duck !', 'תתכופפי !']]\n",
            "Read 128133 sentence pairs\n",
            "Trimmed to 9320 sentence pairs\n",
            "Counting words...\n",
            "Counted words:\n",
            "eng 6206\n",
            "heb 3067\n",
            "------------epoch: 1\n",
            "------------epoch: 2\n",
            "------------epoch: 3\n",
            "------------epoch: 4\n",
            "------------epoch: 5\n",
            "0m 33s (- 8m 21s) (5 6%) 1.9440\n",
            "------------epoch: 6\n",
            "------------epoch: 7\n",
            "------------epoch: 8\n",
            "------------epoch: 9\n",
            "------------epoch: 10\n",
            "1m 6s (- 7m 47s) (10 12%) 1.1380\n",
            "------------epoch: 11\n",
            "------------epoch: 12\n",
            "------------epoch: 13\n",
            "------------epoch: 14\n",
            "------------epoch: 15\n",
            "1m 39s (- 7m 13s) (15 18%) 0.7274\n",
            "------------epoch: 16\n",
            "------------epoch: 17\n",
            "------------epoch: 18\n",
            "------------epoch: 19\n",
            "------------epoch: 20\n",
            "2m 13s (- 6m 39s) (20 25%) 0.4562\n",
            "------------epoch: 21\n",
            "------------epoch: 22\n",
            "------------epoch: 23\n",
            "------------epoch: 24\n",
            "------------epoch: 25\n",
            "2m 46s (- 6m 6s) (25 31%) 0.2800\n",
            "------------epoch: 26\n",
            "------------epoch: 27\n",
            "------------epoch: 28\n",
            "------------epoch: 29\n",
            "------------epoch: 30\n",
            "3m 19s (- 5m 32s) (30 37%) 0.1706\n",
            "------------epoch: 31\n",
            "------------epoch: 32\n",
            "------------epoch: 33\n",
            "------------epoch: 34\n",
            "------------epoch: 35\n",
            "3m 53s (- 4m 59s) (35 43%) 0.1095\n",
            "------------epoch: 36\n",
            "------------epoch: 37\n",
            "------------epoch: 38\n",
            "------------epoch: 39\n",
            "------------epoch: 40\n",
            "4m 25s (- 4m 25s) (40 50%) 0.0755\n",
            "------------epoch: 41\n",
            "------------epoch: 42\n",
            "------------epoch: 43\n",
            "------------epoch: 44\n",
            "------------epoch: 45\n",
            "4m 59s (- 3m 52s) (45 56%) 0.0564\n",
            "------------epoch: 46\n",
            "------------epoch: 47\n",
            "------------epoch: 48\n",
            "------------epoch: 49\n",
            "------------epoch: 50\n",
            "5m 32s (- 3m 19s) (50 62%) 0.0458\n",
            "------------epoch: 51\n",
            "------------epoch: 52\n",
            "------------epoch: 53\n",
            "------------epoch: 54\n",
            "------------epoch: 55\n",
            "6m 5s (- 2m 46s) (55 68%) 0.0383\n",
            "------------epoch: 56\n",
            "------------epoch: 57\n",
            "------------epoch: 58\n",
            "------------epoch: 59\n",
            "------------epoch: 60\n",
            "6m 38s (- 2m 12s) (60 75%) 0.0336\n",
            "------------epoch: 61\n",
            "------------epoch: 62\n",
            "------------epoch: 63\n",
            "------------epoch: 64\n",
            "------------epoch: 65\n",
            "7m 11s (- 1m 39s) (65 81%) 0.0308\n",
            "------------epoch: 66\n",
            "------------epoch: 67\n",
            "------------epoch: 68\n",
            "------------epoch: 69\n",
            "------------epoch: 70\n",
            "7m 45s (- 1m 6s) (70 87%) 0.0283\n",
            "------------epoch: 71\n",
            "------------epoch: 72\n",
            "------------epoch: 73\n",
            "------------epoch: 74\n",
            "------------epoch: 75\n",
            "8m 18s (- 0m 33s) (75 93%) 0.0264\n",
            "------------epoch: 76\n",
            "------------epoch: 77\n",
            "------------epoch: 78\n",
            "------------epoch: 79\n",
            "------------epoch: 80\n",
            "8m 51s (- 0m 0s) (80 100%) 0.0246\n"
          ]
        },
        {
          "output_type": "display_data",
          "data": {
            "text/plain": [
              "<Figure size 640x480 with 0 Axes>"
            ]
          },
          "metadata": {}
        },
        {
          "output_type": "display_data",
          "data": {
            "text/plain": [
              "<Figure size 640x480 with 1 Axes>"
            ],
            "image/png": "[encoded data removed]"
          },
          "metadata": {}
        },
        {
          "output_type": "stream",
          "name": "stdout",
          "text": [
            "> אני מרוצה מזה\n",
            "= i m happy with that\n",
            "< i m happy with that <EOS>\n",
            "\n",
            "> אתה אדם נבזה\n",
            "= you re such a mean man\n",
            "< you re such a mean man that <EOS>\n",
            "\n",
            "> את אגדית\n",
            "= you re fabulous\n",
            "< you re fabulous <EOS>\n",
            "\n",
            "> אנו לא משוחדים\n",
            "= we re unbiased\n",
            "< we re unbiased but not alone <EOS>\n",
            "\n",
            "> אני גמור\n",
            "= i m done for\n",
            "< i m through <EOS>\n",
            "\n",
            "> אתם פחדנים\n",
            "= you re yellow\n",
            "< you re yellow <EOS>\n",
            "\n",
            "> לא קשה למצוא אותך\n",
            "= you re not hard to find\n",
            "< you re not hard to find <EOS>\n",
            "\n",
            "> אני מרוצה מאד מהביצוע של תום\n",
            "= i m very pleased with tom s performance\n",
            "< i m very pleased with tom s performance <EOS>\n",
            "\n",
            "> אני לגמרי לא בקו הבריאות\n",
            "= i m not at all well\n",
            "< i m not at all well <EOS>\n",
            "\n",
            "> היא חובשת כובע יפה\n",
            "= she s wearing a nice hat\n",
            "< she s wearing a nice hat like that hat <EOS>\n",
            "\n",
            "> אתה שיכור !\n",
            "= you are drunk !\n",
            "< you are drunk ! <EOS>\n",
            "\n",
            "> אני לא מדען\n",
            "= i m not a scientist\n",
            "< i m not a scientist <EOS>\n",
            "\n",
            "> גם אני לא בטוחה בזאת\n",
            "= i m not sure of it either\n",
            "< i m not sure of it either <EOS>\n",
            "\n",
            "> אני שמחה שעזרת לי\n",
            "= i am glad that you have helped me\n",
            "< i am glad that you have helped me <EOS>\n",
            "\n",
            "> אנו אנאלפבתים\n",
            "= we re illiterate\n",
            "< we re illiterate <EOS>\n",
            "\n",
            "> אינני שמח על כך\n",
            "= i m not happy about it\n",
            "< i m not happy about it <EOS>\n",
            "\n",
            "> הוא מטורלל לגמרי\n",
            "= he is as nutty as a fruitcake\n",
            "< he is as nutty as a fruitcake <EOS>\n",
            "\n",
            "> הוא עומד למות\n",
            "= he is about to die\n",
            "< he is about to die to mouth <EOS>\n",
            "\n",
            "> אני קשובה\n",
            "= i m attentive\n",
            "< i m attentive <EOS>\n",
            "\n",
            "> אני עדין בחיים\n",
            "= i m still alive\n",
            "< i m still alive <EOS>\n",
            "\n"
          ]
        }
      ],
      "source": [
        "hidden_size = 128\n",
        "batch_size = 32\n",
        "\n",
        "input_lang, output_lang, train_dataloader = get_dataloader(batch_size)\n",
        "\n",
        "encoder_2 = EncoderRNN(input_lang.n_words, hidden_size).to(device)\n",
        "decoder_2 = LSTMAttnDecoderRNN(hidden_size, output_lang.n_words).to(device)\n",
        "\n",
        "train(train_dataloader, encoder_2, decoder_2, 80, print_every=5, plot_every=5)\n",
        "\n",
        "encoder_2.eval()\n",
        "decoder_2.eval()\n",
        "evaluateRandomly(encoder_2, decoder_2,n=20)"
      ]
    },
    {
      "cell_type": "markdown",
      "source": [
        "Interestingly, the model with the LSTM performs very well. However, at the end of the sentence, it unnecessarily adds extra words. For example:\n",
        "> אנו לא משוחדים  \n",
        "= we re unbiased  \n",
        "< we re unbiased but not alone <EOS>  \n",
        "\n",
        "If we limit the number of words in the output sentance, we could have got a pretty good translator.\n"
      ],
      "metadata": {
        "id": "0PqwZJ6KqycQ"
      }
    },
    {
      "cell_type": "markdown",
      "source": [
        "#END"
      ],
      "metadata": {
        "id": "OlQRYspAtbdx"
      }
    }
  ],
  "metadata": {
    "colab": {
      "collapsed_sections": [
        "EZ6FzAghH94H",
        "r_pJ7hVOH6KU",
        "HA01iAMIZD7J",
        "wtHAfeGUwkCk",
        "Hr4vZ6bbuGeO"
      ],
      "provenance": [],
      "gpuType": "T4"
    },
    "kernelspec": {
      "display_name": "Python 3",
      "name": "python3"
    },
    "accelerator": "GPU"
  },
  "nbformat": 4,
  "nbformat_minor": 0
}